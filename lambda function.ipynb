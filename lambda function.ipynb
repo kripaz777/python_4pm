{
 "cells": [
  {
   "cell_type": "code",
   "execution_count": 1,
   "id": "ee391a7b",
   "metadata": {},
   "outputs": [
    {
     "data": {
      "text/plain": [
       "4"
      ]
     },
     "execution_count": 1,
     "metadata": {},
     "output_type": "execute_result"
    }
   ],
   "source": [
    "x = lambda a:a**2\n",
    "x(2)"
   ]
  },
  {
   "cell_type": "code",
   "execution_count": 2,
   "id": "d818fc80",
   "metadata": {},
   "outputs": [
    {
     "data": {
      "text/plain": [
       "20"
      ]
     },
     "execution_count": 2,
     "metadata": {},
     "output_type": "execute_result"
    }
   ],
   "source": [
    "x = lambda l,b:l*b\n",
    "x(10,2)"
   ]
  },
  {
   "cell_type": "code",
   "execution_count": 8,
   "id": "a9c4f788",
   "metadata": {},
   "outputs": [
    {
     "name": "stdout",
     "output_type": "stream",
     "text": [
      "(3, 123)\n",
      "[2, 4, 10, 22]\n"
     ]
    }
   ],
   "source": [
    "Lists = [1,2,3,4,10,123,22]\n",
    "div = list(filter(lambda x:(x%3 == 0),Lists))\n",
    "\n",
    "even = list(filter(lambda x:(x%2 == 0),Lists))\n",
    "print(div)\n",
    "print(even)"
   ]
  },
  {
   "cell_type": "code",
   "execution_count": 13,
   "id": "31197ddc",
   "metadata": {},
   "outputs": [
    {
     "data": {
      "text/plain": [
       "['APPLE', 'CAT']"
      ]
     },
     "execution_count": 13,
     "metadata": {},
     "output_type": "execute_result"
    }
   ],
   "source": [
    "a = [\"APPLE\",\"ball\",\"CAT\",\"dog\"]\n",
    "div = list(filter(lambda x:x.isupper(),a))\n",
    "div"
   ]
  },
  {
   "cell_type": "code",
   "execution_count": 15,
   "id": "b4dc6da1",
   "metadata": {},
   "outputs": [
    {
     "data": {
      "text/plain": [
       "True"
      ]
     },
     "execution_count": 15,
     "metadata": {},
     "output_type": "execute_result"
    }
   ],
   "source": [
    "\"APPLE\".isupper()"
   ]
  },
  {
   "cell_type": "code",
   "execution_count": 16,
   "id": "b198fcb6",
   "metadata": {},
   "outputs": [
    {
     "data": {
      "text/plain": [
       "[1, 4, 9, 16, 25, 36, 49, 64, 81]"
      ]
     },
     "execution_count": 16,
     "metadata": {},
     "output_type": "execute_result"
    }
   ],
   "source": [
    "a = [1,2,3,4,5,6,7,8,9]\n",
    "sq = list(map(lambda x:x**2,a))\n",
    "sq"
   ]
  },
  {
   "cell_type": "code",
   "execution_count": 17,
   "id": "4c9e41b3",
   "metadata": {},
   "outputs": [
    {
     "data": {
      "text/plain": [
       "['APPLE', 'BALL', 'CAT', 'DOG']"
      ]
     },
     "execution_count": 17,
     "metadata": {},
     "output_type": "execute_result"
    }
   ],
   "source": [
    "a = [\"apple\",\"ball\",\"cat\",\"dog\"]\n",
    "cap = list(map(lambda x:x.upper(),a))\n",
    "cap"
   ]
  },
  {
   "cell_type": "code",
   "execution_count": null,
   "id": "df264856",
   "metadata": {},
   "outputs": [],
   "source": []
  }
 ],
 "metadata": {
  "kernelspec": {
   "display_name": "Python 3 (ipykernel)",
   "language": "python",
   "name": "python3"
  },
  "language_info": {
   "codemirror_mode": {
    "name": "ipython",
    "version": 3
   },
   "file_extension": ".py",
   "mimetype": "text/x-python",
   "name": "python",
   "nbconvert_exporter": "python",
   "pygments_lexer": "ipython3",
   "version": "3.9.12"
  }
 },
 "nbformat": 4,
 "nbformat_minor": 5
}
