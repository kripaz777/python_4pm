{
 "cells": [
  {
   "cell_type": "code",
   "execution_count": 1,
   "id": "0b6fd686",
   "metadata": {},
   "outputs": [],
   "source": [
    "class A:\n",
    "    pass\n",
    "\n",
    "class B(A):\n",
    "    pass\n",
    "\n",
    "obj = B()"
   ]
  },
  {
   "cell_type": "code",
   "execution_count": 2,
   "id": "d4beb0b2",
   "metadata": {},
   "outputs": [
    {
     "name": "stdout",
     "output_type": "stream",
     "text": [
      "Hello I am Ram. I am from Kathmandu. I am 34.\n"
     ]
    }
   ],
   "source": [
    "class Data:                            #Parent class\n",
    "    def __init__(self):\n",
    "        self.name = \"Ram\"\n",
    "        self.age = 34\n",
    "        self.add = \"Kathmandu\"\n",
    "        \n",
    "class Information(Data):              #Child class\n",
    "    def info(self):\n",
    "        print(f\"Hello I am {self.name}. I am from {self.add}. I am {self.age}.\")\n",
    "        \n",
    "obj = Information()\n",
    "obj.info()"
   ]
  },
  {
   "cell_type": "code",
   "execution_count": 3,
   "id": "c1effa54",
   "metadata": {},
   "outputs": [
    {
     "name": "stdout",
     "output_type": "stream",
     "text": [
      "Hello I am Ram. I am from Kathmandu. I am 34.\n"
     ]
    }
   ],
   "source": [
    "class Data:                            #Parent class\n",
    "    def __init__(self,name,age,add):\n",
    "        self.name = name\n",
    "        self.age = age\n",
    "        self.add = add\n",
    "        \n",
    "class Information(Data):              #Child class\n",
    "    def info(self):\n",
    "        print(f\"Hello I am {self.name}. I am from {self.add}. I am {self.age}.\")\n",
    "        \n",
    "obj = Information(\"Ram\",34,\"Kathmandu\")\n",
    "obj.info()"
   ]
  },
  {
   "cell_type": "code",
   "execution_count": 5,
   "id": "17f28486",
   "metadata": {},
   "outputs": [
    {
     "name": "stdout",
     "output_type": "stream",
     "text": [
      "Hello I am Ram. I am from Kathmandu. I am 34. My phone no is 9808778765\n"
     ]
    }
   ],
   "source": [
    "class Data:                            #Parent class\n",
    "    def __init__(self,name,age,add):\n",
    "        self.name = name\n",
    "        self.age = age\n",
    "        self.add = add\n",
    "        \n",
    "class Information(Data):              #Child class\n",
    "    def __init__(self,name,age,add,phone):\n",
    "        Data.__init__(self,name,age,add)\n",
    "        self.phone = phone\n",
    "        \n",
    "    def info(self):\n",
    "        print(f\"Hello I am {self.name}. I am from {self.add}. I am {self.age}. My phone no is {self.phone}\")\n",
    "        \n",
    "obj = Information(\"Ram\",34,\"Kathmandu\",9808778765)\n",
    "obj.info()"
   ]
  },
  {
   "cell_type": "code",
   "execution_count": 7,
   "id": "98407562",
   "metadata": {},
   "outputs": [],
   "source": [
    "# multi level\n",
    "class A:\n",
    "    pass\n",
    "\n",
    "class B(A):\n",
    "    pass\n",
    "\n",
    "class C(B):\n",
    "    pass\n",
    "\n",
    "obj = C()"
   ]
  },
  {
   "cell_type": "code",
   "execution_count": null,
   "id": "00b9fa4d",
   "metadata": {},
   "outputs": [],
   "source": [
    "# multi class\n",
    "class A:\n",
    "    pass\n",
    "\n",
    "class B:\n",
    "    pass\n",
    "\n",
    "class C(A,B):\n",
    "    pass\n",
    "\n",
    "obj = C()"
   ]
  },
  {
   "cell_type": "code",
   "execution_count": null,
   "id": "bbf5fbe8",
   "metadata": {},
   "outputs": [],
   "source": [
    "# multilevel\n",
    "class Details:\n",
    "    def __init__(self,add):\n",
    "        self.add = add\n",
    "        \n",
    "class Data(Details):                            #Parent class\n",
    "    def __init__(self,name,age,add):\n",
    "        self.name = name\n",
    "        self.age = age\n",
    "        Details.__init__(self,add)\n",
    "        \n",
    "class Information(Data):              #Child class\n",
    "    def __init__(self,name,age,add,phone):\n",
    "        Data.__init__(self,name,age,add)\n",
    "        self.phone = phone\n",
    "        \n",
    "    def info(self):\n",
    "        print(f\"Hello I am {self.name}. I am from {self.add}. I am {self.age}. My phone no is {self.phone}\")\n",
    "        \n",
    "obj = Information(\"Ram\",34,\"Kathmandu\",9808778765)\n",
    "obj.info()"
   ]
  },
  {
   "cell_type": "code",
   "execution_count": 9,
   "id": "b8f33395",
   "metadata": {},
   "outputs": [
    {
     "name": "stdout",
     "output_type": "stream",
     "text": [
      "Hello I am Ram. I am from Kathmandu. I am 56. My phone no is 9808778765\n"
     ]
    }
   ],
   "source": [
    "# multilevel\n",
    "class Details:\n",
    "    def __init__(self):\n",
    "        self.add = \"Kathmandu\"\n",
    "        \n",
    "class Data(Details):                            #Parent class\n",
    "    def __init__(self):\n",
    "        self.name = \"Ram\"\n",
    "        self.age = 56\n",
    "        Details.__init__(self)\n",
    "        \n",
    "class Information(Data):              #Child class\n",
    "    def __init__(self):\n",
    "        self.phone = 9808778765\n",
    "        Data.__init__(self)\n",
    "       \n",
    "        \n",
    "    def info(self):\n",
    "        print(f\"Hello I am {self.name}. I am from {self.add}. I am {self.age}. My phone no is {self.phone}\")\n",
    "        \n",
    "obj = Information()\n",
    "obj.info()"
   ]
  },
  {
   "cell_type": "code",
   "execution_count": 10,
   "id": "766386e7",
   "metadata": {},
   "outputs": [
    {
     "name": "stdout",
     "output_type": "stream",
     "text": [
      "Hello I am Ram. I am from Kathmandu. I am 56. My phone no is 9808778765\n"
     ]
    }
   ],
   "source": [
    "# multilevel\n",
    "class Details:\n",
    "    def __init__(self):\n",
    "        self.add = \"Kathmandu\"\n",
    "        \n",
    "class Data:                            #Parent class\n",
    "    def __init__(self):\n",
    "        self.name = \"Ram\"\n",
    "        self.age = 56\n",
    "        \n",
    "        \n",
    "class Information(Data,Details):              #Child class\n",
    "    def __init__(self):\n",
    "        self.phone = 9808778765\n",
    "        Data.__init__(self)\n",
    "        Details.__init__(self)\n",
    "       \n",
    "        \n",
    "    def info(self):\n",
    "        print(f\"Hello I am {self.name}. I am from {self.add}. I am {self.age}. My phone no is {self.phone}\")\n",
    "        \n",
    "obj = Information()\n",
    "obj.info()"
   ]
  },
  {
   "cell_type": "code",
   "execution_count": 1,
   "id": "bb91ac31",
   "metadata": {},
   "outputs": [
    {
     "name": "stdout",
     "output_type": "stream",
     "text": [
      "Ram\n",
      "34\n",
      "Kathmandu\n"
     ]
    }
   ],
   "source": [
    "# Public members\n",
    "class Info:\n",
    "    def __init__(self):\n",
    "        self.name = \"Ram\"\n",
    "        self.age = 34\n",
    "        self.add = \"Kathmandu\"\n",
    "        \n",
    "obj = Info()\n",
    "print(obj.name)\n",
    "print(obj.age)\n",
    "print(obj.add)"
   ]
  },
  {
   "cell_type": "code",
   "execution_count": 3,
   "id": "ed9185bc",
   "metadata": {},
   "outputs": [
    {
     "name": "stdout",
     "output_type": "stream",
     "text": [
      "Ram\n",
      "34\n",
      "Kathmandu\n"
     ]
    }
   ],
   "source": [
    "# Protected members\n",
    "class Info:\n",
    "    def __init__(self):\n",
    "        self._name = \"Ram\"\n",
    "        self._age = 34\n",
    "        self._add = \"Kathmandu\"\n",
    "        \n",
    "obj = Info()\n",
    "print(obj._name)\n",
    "print(obj._age)\n",
    "print(obj._add)"
   ]
  },
  {
   "cell_type": "code",
   "execution_count": 4,
   "id": "81fc85a9",
   "metadata": {},
   "outputs": [
    {
     "ename": "AttributeError",
     "evalue": "'Info' object has no attribute '__name'",
     "output_type": "error",
     "traceback": [
      "\u001b[1;31m---------------------------------------------------------------------------\u001b[0m",
      "\u001b[1;31mAttributeError\u001b[0m                            Traceback (most recent call last)",
      "Input \u001b[1;32mIn [4]\u001b[0m, in \u001b[0;36m<cell line: 9>\u001b[1;34m()\u001b[0m\n\u001b[0;32m      6\u001b[0m         \u001b[38;5;28mself\u001b[39m\u001b[38;5;241m.\u001b[39m__add \u001b[38;5;241m=\u001b[39m \u001b[38;5;124m\"\u001b[39m\u001b[38;5;124mKathmandu\u001b[39m\u001b[38;5;124m\"\u001b[39m\n\u001b[0;32m      8\u001b[0m obj \u001b[38;5;241m=\u001b[39m Info()\n\u001b[1;32m----> 9\u001b[0m \u001b[38;5;28mprint\u001b[39m(\u001b[43mobj\u001b[49m\u001b[38;5;241;43m.\u001b[39;49m\u001b[43m__name\u001b[49m)\n\u001b[0;32m     10\u001b[0m \u001b[38;5;28mprint\u001b[39m(obj\u001b[38;5;241m.\u001b[39m__age)\n\u001b[0;32m     11\u001b[0m \u001b[38;5;28mprint\u001b[39m(obj\u001b[38;5;241m.\u001b[39m__add)\n",
      "\u001b[1;31mAttributeError\u001b[0m: 'Info' object has no attribute '__name'"
     ]
    }
   ],
   "source": [
    "# Protected members\n",
    "class Info:\n",
    "    def __init__(self):\n",
    "        self.__name = \"Ram\"\n",
    "        self.__age = 34\n",
    "        self.__add = \"Kathmandu\"\n",
    "        \n",
    "obj = Info()\n",
    "print(obj.__name)\n",
    "print(obj.__age)\n",
    "print(obj.__add)"
   ]
  },
  {
   "cell_type": "code",
   "execution_count": 5,
   "id": "18fc2d52",
   "metadata": {},
   "outputs": [
    {
     "name": "stdout",
     "output_type": "stream",
     "text": [
      "Hello I am Ram. I am 34.\n",
      "Ram\n"
     ]
    }
   ],
   "source": [
    "class Data:                            #Parent class\n",
    "    def __init__(self,name,age,add):\n",
    "        self.name = name\n",
    "        self._age = age\n",
    "        self.__add = add\n",
    "        \n",
    "class Information(Data):              #Child class\n",
    "    def info(self):\n",
    "        print(f\"Hello I am {self.name}. I am {self._age}.\")\n",
    "        \n",
    "obj = Information(\"Ram\",34,\"Kathmandu\")\n",
    "obj.info()\n",
    "print(obj.name)"
   ]
  },
  {
   "cell_type": "code",
   "execution_count": 7,
   "id": "e1442b3b",
   "metadata": {},
   "outputs": [
    {
     "name": "stdout",
     "output_type": "stream",
     "text": [
      "Hello I am Ram. I am 34.\n",
      "Ram\n",
      "Hello I am Ram. I am from Kathmandu. I am 34\n"
     ]
    }
   ],
   "source": [
    "class Data:                            #Parent class\n",
    "    def __init__(self,name,age,add):\n",
    "        self.name = name\n",
    "        self._age = age\n",
    "        self.__add = add\n",
    "        \n",
    "    def data(self):\n",
    "        print(f\"Hello I am {self.name}. I am from {self.__add}. I am {self._age}\")\n",
    "        \n",
    "class Information(Data):              #Child class\n",
    "    def info(self):\n",
    "        print(f\"Hello I am {self.name}. I am {self._age}.\")\n",
    "        \n",
    "obj = Information(\"Ram\",34,\"Kathmandu\")\n",
    "obj.info()\n",
    "print(obj.name)\n",
    "obj.data()"
   ]
  },
  {
   "cell_type": "code",
   "execution_count": 10,
   "id": "608351f6",
   "metadata": {},
   "outputs": [
    {
     "name": "stdout",
     "output_type": "stream",
     "text": [
      "This is init method  1000\n",
      "This is init method  2000\n",
      "This is init method  3000\n",
      "This is add method 3000\n",
      "This is init method  3000\n",
      "This is add method 6000\n",
      "This is init method  6000\n",
      "This is str method  6000\n",
      "6000\n"
     ]
    }
   ],
   "source": [
    "class Point:\n",
    "    def __init__(self, x = 0):\n",
    "        self.x = x\n",
    "        print(\"This is init method \",self.x)\n",
    "    def __str__(self):\n",
    "        print(\"This is str method \",self.x)\n",
    "        return f\"{self.x}\"\n",
    "    \n",
    "    def __add__(self,other):\n",
    "        x = self.x + other.x\n",
    "        print(\"This is add method\",x)\n",
    "        return Point(x)\n",
    "    \n",
    "p1 = Point(1000)\n",
    "p2 = Point(2000)\n",
    "p3 = Point(3000)\n",
    "\n",
    "print(p1 + p2 +p3)\n"
   ]
  },
  {
   "cell_type": "code",
   "execution_count": null,
   "id": "843806da",
   "metadata": {},
   "outputs": [],
   "source": [
    "class Parrot:\n",
    "    def fly(self):\n",
    "        print(\"Parrot can fly\")\n",
    "    def swim(self):\n",
    "        print(\"Parrot can't swim\")\n",
    "        \n",
    "class Penguin:\n",
    "    def fly(self):\n",
    "        print(\"Penguin can't fly\")\n",
    "    def swim(self):\n",
    "        print(\"Penguin can swim\")\n",
    "        \n",
    "# common interface\n",
    "def flying_test(bird):\n",
    "    bird.fly()\n",
    "\n",
    "#instantiate objects\n",
    "blu = Parrot()\n",
    "peggy = Penguin()\n",
    "# passing the object\n",
    "flying_test(blu)\n",
    "flying_test(peggy)\n",
    "      "
   ]
  }
 ],
 "metadata": {
  "kernelspec": {
   "display_name": "Python 3 (ipykernel)",
   "language": "python",
   "name": "python3"
  },
  "language_info": {
   "codemirror_mode": {
    "name": "ipython",
    "version": 3
   },
   "file_extension": ".py",
   "mimetype": "text/x-python",
   "name": "python",
   "nbconvert_exporter": "python",
   "pygments_lexer": "ipython3",
   "version": "3.9.12"
  }
 },
 "nbformat": 4,
 "nbformat_minor": 5
}
