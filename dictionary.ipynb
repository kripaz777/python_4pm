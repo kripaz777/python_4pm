{
 "cells": [
  {
   "cell_type": "code",
   "execution_count": 1,
   "id": "64d7f9e4",
   "metadata": {},
   "outputs": [],
   "source": [
    "# dict\n",
    "# multiple data\n",
    "# Indexing\n",
    "# ordered\n",
    "# Mutable"
   ]
  },
  {
   "cell_type": "code",
   "execution_count": 2,
   "id": "7667a16f",
   "metadata": {},
   "outputs": [],
   "source": [
    "# d = {<key>:<value>,<key>:<value>}"
   ]
  },
  {
   "cell_type": "code",
   "execution_count": 4,
   "id": "e91b95e7",
   "metadata": {},
   "outputs": [
    {
     "name": "stdout",
     "output_type": "stream",
     "text": [
      "<class 'dict'>\n",
      "{'a': 'Apple', 'b': 'Ball', 'c': 'Cat'}\n",
      "3\n"
     ]
    }
   ],
   "source": [
    "d = {'a':'Apple','b':'Ball','c':'Cat'}\n",
    "print(type(d))\n",
    "print(d)\n",
    "print(len(d))"
   ]
  },
  {
   "cell_type": "code",
   "execution_count": 10,
   "id": "f9a590ab",
   "metadata": {},
   "outputs": [
    {
     "name": "stdout",
     "output_type": "stream",
     "text": [
      "Apple\n",
      "Ball\n",
      "Cat\n"
     ]
    }
   ],
   "source": [
    "d = {'a':'Apple','b':'Ball','c':'Cat'}\n",
    "print(d['a'])\n",
    "print(d['b'])\n",
    "print(d['c'])"
   ]
  },
  {
   "cell_type": "code",
   "execution_count": 11,
   "id": "53257a91",
   "metadata": {},
   "outputs": [
    {
     "data": {
      "text/plain": [
       "{'a': 'apple', 'b': 'Ball', 'c': 'Cat'}"
      ]
     },
     "execution_count": 11,
     "metadata": {},
     "output_type": "execute_result"
    }
   ],
   "source": [
    "d = {'a':'Apple','b':'Ball','c':'Cat'}\n",
    "d['a'] = 'apple'\n",
    "d"
   ]
  },
  {
   "cell_type": "code",
   "execution_count": 13,
   "id": "d87767c2",
   "metadata": {},
   "outputs": [
    {
     "data": {
      "text/plain": [
       "{'a': 'Apple', 'b': 'Ball'}"
      ]
     },
     "execution_count": 13,
     "metadata": {},
     "output_type": "execute_result"
    }
   ],
   "source": [
    "d = {}\n",
    "#d = dict()\n",
    "d['a'] = 'Apple'\n",
    "d['b'] = 'Ball'\n",
    "d"
   ]
  },
  {
   "cell_type": "code",
   "execution_count": 14,
   "id": "48ae8055",
   "metadata": {},
   "outputs": [
    {
     "name": "stdout",
     "output_type": "stream",
     "text": [
      "Enter n = 2\n",
      "Enter name = Ram\n",
      "Enter phone = 9808778765\n",
      "Enter name = Shyam\n",
      "Enter phone = 9808778765\n",
      "{'Ram': '9808778765', 'Shyam': '9808778765'}\n"
     ]
    }
   ],
   "source": [
    "d = {}\n",
    "n = int(input(\"Enter n = \"))\n",
    "for i in range(n):\n",
    "    name = input(\"Enter name = \")\n",
    "    phone = input(\"Enter phone = \")\n",
    "    d[name] = phone\n",
    "    \n",
    "print(d)"
   ]
  },
  {
   "cell_type": "code",
   "execution_count": null,
   "id": "e2de3c3a",
   "metadata": {},
   "outputs": [],
   "source": [
    "a = {1: 'Apple', 2: 'Ball'}\n"
   ]
  },
  {
   "cell_type": "code",
   "execution_count": 15,
   "id": "420b473a",
   "metadata": {},
   "outputs": [
    {
     "name": "stdout",
     "output_type": "stream",
     "text": [
      "Ram\n",
      "Shyam\n"
     ]
    }
   ],
   "source": [
    "a = {'Ram': '9808778765', 'Shyam': '9808778765'}\n",
    "for i in a:\n",
    "    print(i)"
   ]
  },
  {
   "cell_type": "code",
   "execution_count": 17,
   "id": "04a1a39f",
   "metadata": {},
   "outputs": [
    {
     "name": "stdout",
     "output_type": "stream",
     "text": [
      "9808778765\n",
      "9808778765\n"
     ]
    }
   ],
   "source": [
    "a = {'Ram': '9808778765', 'Shyam': '9808778765'}\n",
    "for i in a.values():\n",
    "    print(i)"
   ]
  },
  {
   "cell_type": "code",
   "execution_count": 18,
   "id": "6ffe7932",
   "metadata": {},
   "outputs": [
    {
     "name": "stdout",
     "output_type": "stream",
     "text": [
      "('Ram', '9808778765')\n",
      "('Shyam', '9808778765')\n"
     ]
    }
   ],
   "source": [
    "a = {'Ram': '9808778765', 'Shyam': '9808778765'}\n",
    "for i in a.items():\n",
    "    print(i)"
   ]
  },
  {
   "cell_type": "code",
   "execution_count": 19,
   "id": "4567ab8a",
   "metadata": {},
   "outputs": [],
   "source": [
    "# del\n",
    "# pop"
   ]
  },
  {
   "cell_type": "code",
   "execution_count": 20,
   "id": "79623365",
   "metadata": {},
   "outputs": [
    {
     "data": {
      "text/plain": [
       "{'Shyam': '9808778765'}"
      ]
     },
     "execution_count": 20,
     "metadata": {},
     "output_type": "execute_result"
    }
   ],
   "source": [
    "a = {'Ram': '9808778765', 'Shyam': '9808778765'}\n",
    "del a['Ram']\n",
    "a"
   ]
  },
  {
   "cell_type": "code",
   "execution_count": 21,
   "id": "917029db",
   "metadata": {},
   "outputs": [
    {
     "name": "stdout",
     "output_type": "stream",
     "text": [
      "{'Shyam': '9808778765'}\n",
      "9808778765\n"
     ]
    }
   ],
   "source": [
    "a = {'Ram': '9808778765', 'Shyam': '9808778765'}\n",
    "b = a.pop('Ram')\n",
    "print(a)\n",
    "print(b)"
   ]
  },
  {
   "cell_type": "code",
   "execution_count": null,
   "id": "1de2a53d",
   "metadata": {},
   "outputs": [],
   "source": [
    "a = {'name':'Ram','age':34,'add':'Kathmandu'}"
   ]
  },
  {
   "cell_type": "code",
   "execution_count": 22,
   "id": "6b0d4d94",
   "metadata": {},
   "outputs": [
    {
     "data": {
      "text/plain": [
       "{'name': 'Ram', 'age': 45, 'add': 'Kathmandu'}"
      ]
     },
     "execution_count": 22,
     "metadata": {},
     "output_type": "execute_result"
    }
   ],
   "source": [
    "a = [['name','Ram'],['age',45],['add','Kathmandu']]\n",
    "print(dict(a))"
   ]
  },
  {
   "cell_type": "code",
   "execution_count": 23,
   "id": "35cb7273",
   "metadata": {},
   "outputs": [
    {
     "data": {
      "text/plain": [
       "['name', 'age', 'add']"
      ]
     },
     "execution_count": 23,
     "metadata": {},
     "output_type": "execute_result"
    }
   ],
   "source": [
    "a = {'name': 'Ram', 'age': 45, 'add': 'Kathmandu'}\n",
    "list(a)"
   ]
  },
  {
   "cell_type": "code",
   "execution_count": 25,
   "id": "9a601d77",
   "metadata": {},
   "outputs": [
    {
     "data": {
      "text/plain": [
       "['Ram', 45, 'Kathmandu']"
      ]
     },
     "execution_count": 25,
     "metadata": {},
     "output_type": "execute_result"
    }
   ],
   "source": [
    "a = {'name': 'Ram', 'age': 45, 'add': 'Kathmandu'}\n",
    "list(a.values())"
   ]
  },
  {
   "cell_type": "code",
   "execution_count": 26,
   "id": "8ff10023",
   "metadata": {},
   "outputs": [
    {
     "data": {
      "text/plain": [
       "[('name', 'Ram'), ('age', 45), ('add', 'Kathmandu')]"
      ]
     },
     "execution_count": 26,
     "metadata": {},
     "output_type": "execute_result"
    }
   ],
   "source": [
    "a = {'name': 'Ram', 'age': 45, 'add': 'Kathmandu'}\n",
    "list(a.items())"
   ]
  },
  {
   "cell_type": "code",
   "execution_count": 29,
   "id": "13b29c82",
   "metadata": {},
   "outputs": [
    {
     "data": {
      "text/plain": [
       "{'a': 'apple', 'b': 'Ball', 'c': 'Cat'}"
      ]
     },
     "execution_count": 29,
     "metadata": {},
     "output_type": "execute_result"
    }
   ],
   "source": [
    "d = {'a':'Apple','b':'Ball','c':'Cat'}\n",
    "d['a'] = 'apple'\n",
    "d"
   ]
  },
  {
   "cell_type": "code",
   "execution_count": 30,
   "id": "9541ef8b",
   "metadata": {},
   "outputs": [],
   "source": [
    "# No + *"
   ]
  },
  {
   "cell_type": "code",
   "execution_count": 35,
   "id": "6e38efe2",
   "metadata": {},
   "outputs": [
    {
     "name": "stdout",
     "output_type": "stream",
     "text": [
      "{'a': 'Apple', 'b': 'Ball'}\n"
     ]
    }
   ],
   "source": [
    "# update()\n",
    "a = {'a':'Apple'}\n",
    "b = {'b':'Ball'}\n",
    "c = {'c':'Cat'}\n",
    "a.update(b)\n",
    "print(a)"
   ]
  },
  {
   "cell_type": "code",
   "execution_count": null,
   "id": "7a68845f",
   "metadata": {},
   "outputs": [],
   "source": [
    "# list inside dictionary"
   ]
  },
  {
   "cell_type": "code",
   "execution_count": 33,
   "id": "cf9b06ca",
   "metadata": {},
   "outputs": [],
   "source": [
    "a = {'name':['Ram','Shyam'],\n",
    "    'phone':['9808778765','9808778765']}"
   ]
  },
  {
   "cell_type": "code",
   "execution_count": null,
   "id": "b1809983",
   "metadata": {},
   "outputs": [],
   "source": [
    "a = {'Ram':[9808778765,9087787655],\n",
    "    'Hari':[9808778765,9808667654]}"
   ]
  },
  {
   "cell_type": "code",
   "execution_count": 1,
   "id": "b5c9ea23",
   "metadata": {},
   "outputs": [
    {
     "name": "stdout",
     "output_type": "stream",
     "text": [
      "Enter n = 2\n",
      "Enter name = Ram\n",
      "Enter phone = 9808778765\n",
      "Enter name = Shyam\n",
      "Enter phone = 9808778765\n",
      "{'name': ['Ram', 'Shyam'], 'phone': ['9808778765', '9808778765']}\n"
     ]
    }
   ],
   "source": [
    "a = {'name':[],'phone':[]}\n",
    "n = int(input(\"Enter n = \"))\n",
    "for i in range(n):\n",
    "    name = input(\"Enter name = \")\n",
    "    phone = input(\"Enter phone = \")\n",
    "    a['name'].append(name)\n",
    "    a['phone'].append(phone)\n",
    "    \n",
    "print(a)"
   ]
  },
  {
   "cell_type": "code",
   "execution_count": 5,
   "id": "ce831d7f",
   "metadata": {},
   "outputs": [
    {
     "name": "stdout",
     "output_type": "stream",
     "text": [
      "['Ram', 'Shyam']\n",
      "9808778765\n"
     ]
    }
   ],
   "source": [
    "a = {'name': ['Ram', 'Shyam'], 'phone': ['9808778765', '9808778765']}\n",
    "print(a['name'])\n",
    "print(a['phone'][0])"
   ]
  },
  {
   "cell_type": "code",
   "execution_count": 6,
   "id": "afa47563",
   "metadata": {},
   "outputs": [
    {
     "name": "stdout",
     "output_type": "stream",
     "text": [
      "[9808778765, 9087787655]\n"
     ]
    }
   ],
   "source": [
    "a = {'Ram':[9808778765,9087787655],\n",
    "    'Hari':[9808778765,9808667654]}\n",
    "print(a['Ram'])"
   ]
  },
  {
   "cell_type": "code",
   "execution_count": 7,
   "id": "d4fc97db",
   "metadata": {},
   "outputs": [
    {
     "name": "stdout",
     "output_type": "stream",
     "text": [
      "9808778765\n"
     ]
    }
   ],
   "source": [
    "print(a['Ram'][0])"
   ]
  },
  {
   "cell_type": "code",
   "execution_count": 8,
   "id": "6c099734",
   "metadata": {},
   "outputs": [
    {
     "data": {
      "text/plain": [
       "[{'name': 'Ram', 'age': 34}, {'name': 'Shyam', 'age': 36}]"
      ]
     },
     "execution_count": 8,
     "metadata": {},
     "output_type": "execute_result"
    }
   ],
   "source": [
    "# dict inside list\n",
    "a = [{'name':'Ram','age':34},\n",
    "    {'name':'Shyam','age':36}]\n",
    "a"
   ]
  },
  {
   "cell_type": "code",
   "execution_count": 11,
   "id": "24b379b8",
   "metadata": {},
   "outputs": [
    {
     "name": "stdout",
     "output_type": "stream",
     "text": [
      "{'name': 'Shyam', 'age': 36}\n"
     ]
    }
   ],
   "source": [
    "len(a)\n",
    "print(a[1])"
   ]
  },
  {
   "cell_type": "code",
   "execution_count": 14,
   "id": "be4881af",
   "metadata": {},
   "outputs": [
    {
     "data": {
      "text/plain": [
       "34"
      ]
     },
     "execution_count": 14,
     "metadata": {},
     "output_type": "execute_result"
    }
   ],
   "source": [
    "a[0]['age']"
   ]
  },
  {
   "cell_type": "code",
   "execution_count": 15,
   "id": "a0118bd9",
   "metadata": {},
   "outputs": [
    {
     "name": "stdout",
     "output_type": "stream",
     "text": [
      "Enter n = 2\n",
      "Enter name = Ram\n",
      "Enter age = Shyam\n",
      "Enter name = Hari\n",
      "Enter age = 89\n",
      "[{'name': 'Ram', 'age': 'Shyam'}, {'name': 'Hari', 'age': '89'}]\n"
     ]
    }
   ],
   "source": [
    "a = []\n",
    "n = int(input(\"Enter n = \"))\n",
    "for i in range(n):\n",
    "    name = input(\"Enter name = \")\n",
    "    age = input(\"Enter age = \")\n",
    "    d = {'Name':name,'Age':age}\n",
    "    a.append(d)\n",
    "print(a)"
   ]
  },
  {
   "cell_type": "code",
   "execution_count": 19,
   "id": "da42f259",
   "metadata": {},
   "outputs": [
    {
     "data": {
      "text/plain": [
       "[{'name': 'Rama', 'age': 'Shyam'}, {'name': 'Hari', 'age': '89'}]"
      ]
     },
     "execution_count": 19,
     "metadata": {},
     "output_type": "execute_result"
    }
   ],
   "source": [
    "a[0]['name'] = 'Rama'\n",
    "a"
   ]
  },
  {
   "cell_type": "code",
   "execution_count": 21,
   "id": "8df638cc",
   "metadata": {},
   "outputs": [
    {
     "data": {
      "text/plain": [
       "{'name': 'Rama', 'age': 'Shyam'}"
      ]
     },
     "execution_count": 21,
     "metadata": {},
     "output_type": "execute_result"
    }
   ],
   "source": [
    "a[0]['name']"
   ]
  },
  {
   "cell_type": "code",
   "execution_count": 22,
   "id": "ee095ea4",
   "metadata": {},
   "outputs": [],
   "source": [
    "# dict inside dict"
   ]
  },
  {
   "cell_type": "code",
   "execution_count": 30,
   "id": "e5082a68",
   "metadata": {},
   "outputs": [
    {
     "data": {
      "text/plain": [
       "{'Ram': {'ntc': 98678876754, 'ncell': 908667654, 'landline': 4456787},\n",
       " 'Shyam': {'ncell': 9808778765, 'ntc': 9808778765}}"
      ]
     },
     "execution_count": 30,
     "metadata": {},
     "output_type": "execute_result"
    }
   ],
   "source": [
    "a = {'Ram':{'ntc':98678876754,'ncell':908667654,'landline':4456787},\n",
    "    'Shyam':{'ncell':9808778765,'ntc':9808778765,'landline':4456785}}\n",
    "a"
   ]
  },
  {
   "cell_type": "code",
   "execution_count": 31,
   "id": "d81ee3a9",
   "metadata": {},
   "outputs": [
    {
     "name": "stdout",
     "output_type": "stream",
     "text": [
      "98678876754\n",
      "4456787\n"
     ]
    }
   ],
   "source": [
    "print(a['Ram']['ntc'])\n",
    "print(a['Ram']['landline'])"
   ]
  },
  {
   "cell_type": "code",
   "execution_count": null,
   "id": "3630c5ae",
   "metadata": {},
   "outputs": [],
   "source": [
    "d = {}\n",
    "#d = dict()\n",
    "d['a'] = 'Apple'\n",
    "d['b'] = 'Ball'\n",
    "d"
   ]
  },
  {
   "cell_type": "code",
   "execution_count": 33,
   "id": "80264a65",
   "metadata": {},
   "outputs": [
    {
     "name": "stdout",
     "output_type": "stream",
     "text": [
      "Enter n = 2\n",
      "Enter name = Ram\n",
      "Enter ntc no = 9878889876\n",
      "Enter ncell no = 9808778765\n",
      "Enter landline = 4409667\n",
      "Enter name = Shyam\n",
      "Enter ntc no = 9878990987\n",
      "Enter ncell no = 9808778756\n",
      "Enter landline = 4456119\n",
      "{'Ram': {'Ntc': '9878889876', 'Ncell': '9808778765', 'Landline': '4409667'}, 'Shyam': {'Ntc': '9878990987', 'Ncell': '9808778756', 'Landline': '4456119'}}\n"
     ]
    }
   ],
   "source": [
    "d = {}\n",
    "n = int(input(\"Enter n = \"))\n",
    "for i in range(n):\n",
    "    name = input(\"Enter name = \")\n",
    "    ntc = input(\"Enter ntc no = \")\n",
    "    ncell = input(\"Enter ncell no = \")\n",
    "    landline = input(\"Enter landline = \")\n",
    "    d[name] = {'Ntc':ntc,'Ncell':ncell,'Landline':landline}\n",
    "    \n",
    "print(d)"
   ]
  },
  {
   "cell_type": "code",
   "execution_count": null,
   "id": "0346b600",
   "metadata": {},
   "outputs": [],
   "source": []
  }
 ],
 "metadata": {
  "kernelspec": {
   "display_name": "Python 3 (ipykernel)",
   "language": "python",
   "name": "python3"
  },
  "language_info": {
   "codemirror_mode": {
    "name": "ipython",
    "version": 3
   },
   "file_extension": ".py",
   "mimetype": "text/x-python",
   "name": "python",
   "nbconvert_exporter": "python",
   "pygments_lexer": "ipython3",
   "version": "3.9.12"
  }
 },
 "nbformat": 4,
 "nbformat_minor": 5
}
