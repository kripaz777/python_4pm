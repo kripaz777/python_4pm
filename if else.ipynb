{
 "cells": [
  {
   "cell_type": "code",
   "execution_count": 1,
   "id": "5e1bd7b5",
   "metadata": {},
   "outputs": [],
   "source": [
    "# if <condition>:\n",
    "#     <operation>\n",
    "# elif <condition>:\n",
    "#     <operation>\n",
    "# elif <condition>:\n",
    "#     <operation>\n",
    "# ...\n",
    "# else:\n",
    "#     <operation>"
   ]
  },
  {
   "cell_type": "code",
   "execution_count": 2,
   "id": "c31ee61a",
   "metadata": {},
   "outputs": [],
   "source": [
    "# < > <= >= == !="
   ]
  },
  {
   "cell_type": "code",
   "execution_count": 4,
   "id": "d6b348a3",
   "metadata": {},
   "outputs": [
    {
     "name": "stdout",
     "output_type": "stream",
     "text": [
      "False\n",
      "True\n"
     ]
    }
   ],
   "source": [
    "a = 10\n",
    "b = 20\n",
    "print(a>b)\n",
    "print(a<b)"
   ]
  },
  {
   "cell_type": "code",
   "execution_count": 6,
   "id": "75668cb3",
   "metadata": {},
   "outputs": [
    {
     "name": "stdout",
     "output_type": "stream",
     "text": [
      "True\n",
      "True\n"
     ]
    }
   ],
   "source": [
    "a = 20\n",
    "b = 20\n",
    "print(a>=b)\n",
    "print(a<=b)"
   ]
  },
  {
   "cell_type": "code",
   "execution_count": 7,
   "id": "e937c5fd",
   "metadata": {},
   "outputs": [
    {
     "name": "stdout",
     "output_type": "stream",
     "text": [
      "True\n"
     ]
    }
   ],
   "source": [
    "a = 20\n",
    "b = 20\n",
    "print(a==b)"
   ]
  },
  {
   "cell_type": "code",
   "execution_count": 8,
   "id": "c3142013",
   "metadata": {},
   "outputs": [
    {
     "name": "stdout",
     "output_type": "stream",
     "text": [
      "True\n"
     ]
    }
   ],
   "source": [
    "a = 20\n",
    "b = 10\n",
    "print(a!=b)"
   ]
  },
  {
   "cell_type": "code",
   "execution_count": 10,
   "id": "d56f2766",
   "metadata": {},
   "outputs": [
    {
     "name": "stdout",
     "output_type": "stream",
     "text": [
      "Enter x = -10\n",
      "This is -ve no\n"
     ]
    }
   ],
   "source": [
    "x = int(input(\"Enter x = \"))\n",
    "if x>=0:\n",
    "    print(\"This is +ve no\")\n",
    "else:\n",
    "    print(\"This is -ve no\")"
   ]
  },
  {
   "cell_type": "code",
   "execution_count": 14,
   "id": "b7c9588c",
   "metadata": {},
   "outputs": [
    {
     "data": {
      "text/plain": [
       "True"
      ]
     },
     "execution_count": 14,
     "metadata": {},
     "output_type": "execute_result"
    }
   ],
   "source": [
    "10%2 == 0"
   ]
  },
  {
   "cell_type": "code",
   "execution_count": 17,
   "id": "d2927c36",
   "metadata": {},
   "outputs": [
    {
     "name": "stdout",
     "output_type": "stream",
     "text": [
      "Enter x = 0\n",
      "This is even no\n"
     ]
    }
   ],
   "source": [
    "x = int(input(\"Enter x = \"))\n",
    "if x%2 == 0:\n",
    "    print(\"This is even no\")\n",
    "else:\n",
    "    print(\"This is odd no\")"
   ]
  },
  {
   "cell_type": "code",
   "execution_count": 3,
   "id": "3ee79dbd",
   "metadata": {},
   "outputs": [
    {
     "name": "stdout",
     "output_type": "stream",
     "text": [
      "Enter a = 10\n",
      "Enter b = 10\n",
      "Both a and b are equal\n"
     ]
    }
   ],
   "source": [
    "a = int(input(\"Enter a = \"))\n",
    "b = int(input(\"Enter b = \"))\n",
    "if a>b:\n",
    "    print(\"a is greater than b \")\n",
    "elif b>a:\n",
    "    print(\"b is greater than a \")\n",
    "else:\n",
    "    print(\"Both a and b are equal\")"
   ]
  },
  {
   "cell_type": "code",
   "execution_count": 5,
   "id": "fd9d3a60",
   "metadata": {},
   "outputs": [
    {
     "name": "stdout",
     "output_type": "stream",
     "text": [
      "Enter a = 10\n",
      "Enter b = 3\n",
      "Enter + - * /  /\n",
      "3.3333333333333335\n"
     ]
    }
   ],
   "source": [
    "a = int(input(\"Enter a = \"))\n",
    "b = int(input(\"Enter b = \"))\n",
    "o = input(\"Enter + - * /  \")\n",
    "if o == \"+\":\n",
    "    print(a + b)\n",
    "elif o == \"-\":\n",
    "    print(a-b)\n",
    "elif o == \"*\":\n",
    "    print(a*b)\n",
    "elif o == \"/\":\n",
    "    print(a/b)\n",
    "else:\n",
    "    print(\"Invalid operator\")"
   ]
  },
  {
   "cell_type": "code",
   "execution_count": 6,
   "id": "2cd0e6dd",
   "metadata": {},
   "outputs": [
    {
     "name": "stdout",
     "output_type": "stream",
     "text": [
      "Enter l = 10\n",
      "Enter b = 4\n",
      "Enter a for area and v for volume   a\n",
      "40\n"
     ]
    }
   ],
   "source": [
    "l = int(input(\"Enter l = \"))\n",
    "b = int(input(\"Enter b = \"))\n",
    "o = input(\"Enter a for area and v for volume   \")\n",
    "if o == 'a':\n",
    "    area = l*b\n",
    "    print(\"The area is = \",area)\n",
    "elif o == 'v':\n",
    "    h = int(input(\"Enter h = \"))\n",
    "    volume = l*b*h\n",
    "    print(\"The volume is = \",volume)\n",
    "else:\n",
    "    print(\"Invalid entry\")"
   ]
  },
  {
   "cell_type": "code",
   "execution_count": 7,
   "id": "3e7d351a",
   "metadata": {},
   "outputs": [],
   "source": [
    "# and  & -> multiplication\n",
    "# or   | -> Addition"
   ]
  },
  {
   "cell_type": "code",
   "execution_count": 11,
   "id": "bf424b6a",
   "metadata": {},
   "outputs": [
    {
     "name": "stdout",
     "output_type": "stream",
     "text": [
      "True\n",
      "False\n",
      "False\n",
      "False\n"
     ]
    }
   ],
   "source": [
    "#and\n",
    "print(True and True)\n",
    "print(True and False)\n",
    "print(False and True)\n",
    "print(False and False)"
   ]
  },
  {
   "cell_type": "code",
   "execution_count": 12,
   "id": "4d5fe3c2",
   "metadata": {},
   "outputs": [
    {
     "name": "stdout",
     "output_type": "stream",
     "text": [
      "True\n",
      "True\n",
      "True\n",
      "False\n"
     ]
    }
   ],
   "source": [
    "#or\n",
    "print(True or True)\n",
    "print(True or False)\n",
    "print(False or True)\n",
    "print(False or False)"
   ]
  },
  {
   "cell_type": "code",
   "execution_count": 14,
   "id": "66cd9299",
   "metadata": {},
   "outputs": [
    {
     "name": "stdout",
     "output_type": "stream",
     "text": [
      "Enter a = 10\n",
      "Enter b = 0\n",
      "Enter + - * /  /\n",
      "The value of b can not be zero\n"
     ]
    }
   ],
   "source": [
    "a = int(input(\"Enter a = \"))\n",
    "b = int(input(\"Enter b = \"))\n",
    "o = input(\"Enter + - * /  \")\n",
    "if o == \"+\":\n",
    "    print(a + b)\n",
    "elif o == \"-\":\n",
    "    print(a-b)\n",
    "elif o == \"*\":\n",
    "    print(a*b)\n",
    "elif o == \"/\" and b != 0:\n",
    "    print(a/b)\n",
    "elif o == \"/\" and b == 0:\n",
    "    print(\"The value of b can not be zero\")\n",
    "else:\n",
    "    print(\"Invalid operator\")"
   ]
  },
  {
   "cell_type": "code",
   "execution_count": 1,
   "id": "3af16409",
   "metadata": {},
   "outputs": [
    {
     "name": "stdout",
     "output_type": "stream",
     "text": [
      "Enter physics marks = 89\n",
      "Enter chemistry = 67\n",
      "Enter math = 87\n",
      "Enter english = 90\n",
      "Enter nepali = 67\n",
      "Total 400\n",
      "Per 80.0\n",
      "Grade A\n"
     ]
    }
   ],
   "source": [
    "physics = int(input(\"Enter physics marks = \"))\n",
    "chemistry = int(input(\"Enter chemistry = \"))\n",
    "math = int(input(\"Enter math = \"))\n",
    "english = int(input(\"Enter english = \"))\n",
    "nepali = int(input(\"Enter nepali = \"))\n",
    "\n",
    "total = physics + chemistry + math + english + nepali\n",
    "per = total/5\n",
    "\n",
    "if per >= 80:\n",
    "    grade = 'A'\n",
    "elif per >= 60:\n",
    "    grade = 'B'\n",
    "elif per >= 40:\n",
    "    grade = 'C'\n",
    "else:\n",
    "    grade = 'F'\n",
    "\n",
    "print(\"Total\",total)\n",
    "print(\"Per\",per)\n",
    "print(\"Grade\",grade)"
   ]
  },
  {
   "cell_type": "code",
   "execution_count": null,
   "id": "86fad8f5",
   "metadata": {},
   "outputs": [],
   "source": [
    "physics = int(input(\"Enter physics marks = \"))\n",
    "chemistry = int(input(\"Enter chemistry = \"))\n",
    "math = int(input(\"Enter math = \"))\n",
    "english = int(input(\"Enter english = \"))\n",
    "nepali = int(input(\"Enter nepali = \"))\n",
    "\n",
    "total = physics + chemistry + math + english + nepali\n",
    "per = total/5        #calculating per\n",
    "\n",
    "if (per > 80) or (per == 80):\n",
    "    grade = 'A'\n",
    "elif (per > 60) or (per == 60):\n",
    "    grade = 'B'\n",
    "elif (per > 40) or (per == 40):\n",
    "    grade = 'C'\n",
    "else:\n",
    "    grade = 'F'\n",
    "\n",
    "print(\"Total\",total)\n",
    "print(\"Per\",per)\n",
    "print(\"Grade\",grade)"
   ]
  },
  {
   "cell_type": "code",
   "execution_count": 2,
   "id": "740ccf2c",
   "metadata": {},
   "outputs": [],
   "source": [
    "#Nested ifelse statement \n",
    "# if <condition>:\n",
    "#     if <condition>:\n",
    "#         <operations>\n",
    "#     else:\n",
    "#         <operations>\n",
    "# else:\n",
    "#     <operations>\n"
   ]
  },
  {
   "cell_type": "code",
   "execution_count": 5,
   "id": "f063496b",
   "metadata": {},
   "outputs": [
    {
     "name": "stdout",
     "output_type": "stream",
     "text": [
      "Enter x = -10\n",
      "x is even but -ve\n"
     ]
    }
   ],
   "source": [
    "x = int(input(\"Enter x = \"))\n",
    "if x%2 == 0:\n",
    "    if x>=0:\n",
    "        print(\"x is even and +ve\")\n",
    "    else:\n",
    "        print(\"x is even but -ve\")\n",
    "else:\n",
    "    if x>=0:\n",
    "        print(\"x is odd and +ve\")\n",
    "    else:\n",
    "        print(\"x is odd but -ve\")"
   ]
  },
  {
   "cell_type": "code",
   "execution_count": null,
   "id": "92346f96",
   "metadata": {},
   "outputs": [],
   "source": [
    "a = int(input(\"Enter a = \"))\n",
    "b = int(input(\"Enter b = \"))\n",
    "o = input(\"Enter + - * /  \")\n",
    "if o == \"+\":\n",
    "    print(a + b)\n",
    "elif o == \"-\":\n",
    "    print(a-b)\n",
    "elif o == \"*\":\n",
    "    print(a*b)\n",
    "elif o == \"/\":\n",
    "    if b !=0:\n",
    "        print(a/b)\n",
    "    else:\n",
    "        print(\"The value of b can not be zero\")\n",
    "else:\n",
    "    print(\"Invalid operator\")"
   ]
  }
 ],
 "metadata": {
  "kernelspec": {
   "display_name": "Python 3 (ipykernel)",
   "language": "python",
   "name": "python3"
  },
  "language_info": {
   "codemirror_mode": {
    "name": "ipython",
    "version": 3
   },
   "file_extension": ".py",
   "mimetype": "text/x-python",
   "name": "python",
   "nbconvert_exporter": "python",
   "pygments_lexer": "ipython3",
   "version": "3.9.12"
  }
 },
 "nbformat": 4,
 "nbformat_minor": 5
}
