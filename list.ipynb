{
 "cells": [
  {
   "cell_type": "code",
   "execution_count": 1,
   "id": "7b7d7805",
   "metadata": {},
   "outputs": [],
   "source": [
    "# Python collections\n",
    "# list\n",
    "# tuple\n",
    "# dictionary\n",
    "# set"
   ]
  },
  {
   "cell_type": "code",
   "execution_count": 2,
   "id": "a838ea75",
   "metadata": {},
   "outputs": [],
   "source": [
    "# # list\n",
    "# -Multiple and duplicate\n",
    "# -Indexing\n",
    "# -Ordered\n",
    "# -Mutable"
   ]
  },
  {
   "cell_type": "code",
   "execution_count": 3,
   "id": "ed1875f0",
   "metadata": {},
   "outputs": [],
   "source": [
    "a = []\n",
    "a = list()"
   ]
  },
  {
   "cell_type": "code",
   "execution_count": 5,
   "id": "a837837e",
   "metadata": {},
   "outputs": [
    {
     "name": "stdout",
     "output_type": "stream",
     "text": [
      "<class 'list'>\n"
     ]
    }
   ],
   "source": [
    "a = [\"Apple\",\"Ball\",\"Cat\",\"Dog\",\"Fish\",\"Apple\"]\n",
    "b = [1,2,3,4.5,4.7]\n",
    "print(type(a))"
   ]
  },
  {
   "cell_type": "code",
   "execution_count": 15,
   "id": "a343c521",
   "metadata": {},
   "outputs": [
    {
     "name": "stdout",
     "output_type": "stream",
     "text": [
      "Apple2\n",
      "['Apple', 'Ball', 'Cat', 'Dog']\n",
      "['Apple', 'Cat', 'Fish']\n",
      "Apple2\n"
     ]
    }
   ],
   "source": [
    "a = [\"Apple\",\"Ball\",\"Cat\",\"Dog\",\"Fish\",\"Apple2\"]\n",
    "print(a[5])\n",
    "print(a[0:4])\n",
    "print(a[::2])\n",
    "print(a[-1])"
   ]
  },
  {
   "cell_type": "code",
   "execution_count": 16,
   "id": "9a146ead",
   "metadata": {},
   "outputs": [
    {
     "data": {
      "text/plain": [
       "['Apple', 'Ball', 'Cat', 'Dog', 'Fish', 'Apple']"
      ]
     },
     "execution_count": 16,
     "metadata": {},
     "output_type": "execute_result"
    }
   ],
   "source": [
    "a = [\"Apple\",\"Ball\",\"Cat\",\"Dog\",\"Fish\",\"Apple\"]\n",
    "a"
   ]
  },
  {
   "cell_type": "code",
   "execution_count": 19,
   "id": "8761dd6f",
   "metadata": {},
   "outputs": [
    {
     "data": {
      "text/plain": [
       "['apple', 'Ball', 'Cat', 'Dog', 'Fish', 'Apple']"
      ]
     },
     "execution_count": 19,
     "metadata": {},
     "output_type": "execute_result"
    }
   ],
   "source": [
    "a = [\"Apple\",\"Ball\",\"Cat\",\"Dog\",\"Fish\",\"Apple\"]\n",
    "a[0] = \"apple\"\n",
    "a"
   ]
  },
  {
   "cell_type": "code",
   "execution_count": 20,
   "id": "af9a95fb",
   "metadata": {},
   "outputs": [],
   "source": [
    "# + *"
   ]
  },
  {
   "cell_type": "code",
   "execution_count": 43,
   "id": "a2407da6",
   "metadata": {},
   "outputs": [
    {
     "name": "stdout",
     "output_type": "stream",
     "text": [
      "['Apple', 'Ball', 'Cat', 'Dog', 'Fish', 'Apple', 'Cat', 'Dog']\n",
      "['Apple', 'Ball', 'Cat', 'Dog', 'Fish', 'Apple']\n"
     ]
    }
   ],
   "source": [
    "a = [\"Apple\",\"Ball\",\"Cat\",\"Dog\",\"Fish\",\"Apple\"]\n",
    "b = [\"Cat\",\"Dog\"]\n",
    "c = a + b\n",
    "print(c)\n",
    "print(a)"
   ]
  },
  {
   "cell_type": "code",
   "execution_count": 22,
   "id": "96512440",
   "metadata": {},
   "outputs": [
    {
     "name": "stdout",
     "output_type": "stream",
     "text": [
      "['Apple', 'Ball', 'Cat', 'Dog', 'Fish', 'Apple', 'Apple', 'Ball', 'Cat', 'Dog', 'Fish', 'Apple']\n"
     ]
    }
   ],
   "source": [
    "a = [\"Apple\",\"Ball\",\"Cat\",\"Dog\",\"Fish\",\"Apple\"]\n",
    "print(a*2)"
   ]
  },
  {
   "cell_type": "code",
   "execution_count": 24,
   "id": "b1b9972f",
   "metadata": {},
   "outputs": [
    {
     "data": {
      "text/plain": [
       "['Apple', 'Ball']"
      ]
     },
     "execution_count": 24,
     "metadata": {},
     "output_type": "execute_result"
    }
   ],
   "source": [
    "a = []\n",
    "b = [\"Apple\"]\n",
    "c = a+b\n",
    "c + [\"Ball\"]"
   ]
  },
  {
   "cell_type": "code",
   "execution_count": 27,
   "id": "4b675ab8",
   "metadata": {},
   "outputs": [
    {
     "name": "stdout",
     "output_type": "stream",
     "text": [
      "Enter n = 5\n",
      "Enter x = 234\n",
      "Enter x = 354\n",
      "Enter x = 564\n",
      "Enter x = 34\n",
      "Enter x = 65\n",
      "[234, 354, 564, 34, 65]\n"
     ]
    }
   ],
   "source": [
    "l = []\n",
    "n = int(input(\"Enter n = \"))\n",
    "for i in range(n):\n",
    "    x = int(input(\"Enter x = \"))\n",
    "    l = l + [x]\n",
    "    \n",
    "print(l)"
   ]
  },
  {
   "cell_type": "code",
   "execution_count": 32,
   "id": "055bc491",
   "metadata": {},
   "outputs": [
    {
     "name": "stdout",
     "output_type": "stream",
     "text": [
      "The sum of all no =  1251\n",
      "The max value =  564\n",
      "The min value =  34\n",
      "The average value =  250.2\n",
      "[34, 65, 234, 354, 564]\n",
      "[564, 354, 234, 65, 34]\n"
     ]
    }
   ],
   "source": [
    "print(\"The sum of all no = \",sum(l))\n",
    "print(\"The max value = \",max(l))\n",
    "print(\"The min value = \",min(l))\n",
    "print(\"The average value = \",sum(l)/n)\n",
    "l.sort()\n",
    "print(l)\n",
    "l.reverse()\n",
    "print(l)"
   ]
  },
  {
   "cell_type": "code",
   "execution_count": 34,
   "id": "20dd9fe3",
   "metadata": {},
   "outputs": [
    {
     "name": "stdout",
     "output_type": "stream",
     "text": [
      "['Ant', 'Apple', 'Cat', 'Zebra', 'apple', 'zebra']\n"
     ]
    }
   ],
   "source": [
    "a = [\"Zebra\",\"Apple\",\"Cat\",\"Ant\",\"zebra\",\"apple\"]\n",
    "a.sort()\n",
    "print(a)"
   ]
  },
  {
   "cell_type": "code",
   "execution_count": 35,
   "id": "2b90d218",
   "metadata": {},
   "outputs": [
    {
     "name": "stdout",
     "output_type": "stream",
     "text": [
      "Zebra\n",
      "Apple\n",
      "Cat\n",
      "Ant\n",
      "zebra\n",
      "apple\n"
     ]
    }
   ],
   "source": [
    "a = [\"Zebra\",\"Apple\",\"Cat\",\"Ant\",\"zebra\",\"apple\"]\n",
    "for i in a:\n",
    "    print(i)"
   ]
  },
  {
   "cell_type": "code",
   "execution_count": 37,
   "id": "2a0250fe",
   "metadata": {},
   "outputs": [
    {
     "name": "stdout",
     "output_type": "stream",
     "text": [
      "Yes\n",
      "1\n"
     ]
    }
   ],
   "source": [
    "a = [\"Zebra\",\"Apple\",\"Cat\",\"Ant\",\"zebra\",\"apple\"]\n",
    "if \"Apple\" in a:\n",
    "    print(\"Yes\")\n",
    "    print(a.count(\"Apple\"))\n",
    "else:\n",
    "    print(\"No\")"
   ]
  },
  {
   "cell_type": "code",
   "execution_count": 38,
   "id": "ddf3309e",
   "metadata": {},
   "outputs": [],
   "source": [
    "# input value\n",
    "# append()\n",
    "# insert()\n",
    "# extend()\n",
    "\n",
    "# delete\n",
    "# del \n",
    "# remove()\n",
    "# pop()"
   ]
  },
  {
   "cell_type": "code",
   "execution_count": 40,
   "id": "3956e892",
   "metadata": {},
   "outputs": [
    {
     "name": "stdout",
     "output_type": "stream",
     "text": [
      "['Zebra', 'Apple', 'Cat', 'Ant', 'zebra', 'apple', 'Apple3']\n"
     ]
    }
   ],
   "source": [
    "a = [\"Zebra\",\"Apple\",\"Cat\",\"Ant\",\"zebra\",\"apple\"]\n",
    "a.append(\"Apple3\")\n",
    "print(a)"
   ]
  },
  {
   "cell_type": "code",
   "execution_count": 41,
   "id": "739289a6",
   "metadata": {},
   "outputs": [
    {
     "data": {
      "text/plain": [
       "['Zebra', 'Apple', 'cat', 'Cat', 'Ant', 'zebra', 'apple']"
      ]
     },
     "execution_count": 41,
     "metadata": {},
     "output_type": "execute_result"
    }
   ],
   "source": [
    "a = [\"Zebra\",\"Apple\",\"Cat\",\"Ant\",\"zebra\",\"apple\"]\n",
    "a.insert(2,\"cat\")\n",
    "a"
   ]
  },
  {
   "cell_type": "code",
   "execution_count": 42,
   "id": "40ce4542",
   "metadata": {},
   "outputs": [
    {
     "name": "stdout",
     "output_type": "stream",
     "text": [
      "['Zebra', 'Apple', 'Cat', 'Ant', 'zebra', 'apple', 1, 2, 3, 4]\n"
     ]
    }
   ],
   "source": [
    "a = [\"Zebra\",\"Apple\",\"Cat\",\"Ant\",\"zebra\",\"apple\"]\n",
    "b = [1,2,3,4]\n",
    "a.extend(b)\n",
    "print(a)"
   ]
  },
  {
   "cell_type": "code",
   "execution_count": 44,
   "id": "c23c650b",
   "metadata": {},
   "outputs": [
    {
     "data": {
      "text/plain": [
       "['Apple', 'Cat', 'Ant', 'zebra', 'apple']"
      ]
     },
     "execution_count": 44,
     "metadata": {},
     "output_type": "execute_result"
    }
   ],
   "source": [
    "a = [\"Zebra\",\"Apple\",\"Cat\",\"Ant\",\"zebra\",\"apple\"]\n",
    "del a[0]\n",
    "a"
   ]
  },
  {
   "cell_type": "code",
   "execution_count": 45,
   "id": "e5c7af0c",
   "metadata": {},
   "outputs": [
    {
     "data": {
      "text/plain": [
       "['apple']"
      ]
     },
     "execution_count": 45,
     "metadata": {},
     "output_type": "execute_result"
    }
   ],
   "source": [
    "a = [\"Zebra\",\"Apple\",\"Cat\",\"Ant\",\"zebra\",\"apple\"]\n",
    "del a[0:5]\n",
    "a"
   ]
  },
  {
   "cell_type": "code",
   "execution_count": 49,
   "id": "e09e45f1",
   "metadata": {},
   "outputs": [
    {
     "name": "stdout",
     "output_type": "stream",
     "text": [
      "['Apple', 'Cat', 'Ant', 'zebra', 'apple']\n",
      "['Zebra']\n"
     ]
    }
   ],
   "source": [
    "a = [\"Zebra\",\"Apple\",\"Cat\",\"Ant\",\"zebra\",\"apple\"]\n",
    "# b = [a.pop(0)]\n",
    "b = a.pop()\n",
    "print(a)\n",
    "print(b)"
   ]
  },
  {
   "cell_type": "code",
   "execution_count": 48,
   "id": "9526ce14",
   "metadata": {},
   "outputs": [
    {
     "data": {
      "text/plain": [
       "['Apple', 'Cat', 'Ant', 'zebra', 'apple']"
      ]
     },
     "execution_count": 48,
     "metadata": {},
     "output_type": "execute_result"
    }
   ],
   "source": [
    "a = [\"Zebra\",\"Apple\",\"Cat\",\"Ant\",\"zebra\",\"apple\"]\n",
    "a.remove(\"Zebra\")\n",
    "a"
   ]
  },
  {
   "cell_type": "code",
   "execution_count": 2,
   "id": "06e13e9b",
   "metadata": {},
   "outputs": [
    {
     "data": {
      "text/plain": [
       "['Zebra', 'Cat', 'Ant', 'zebra', 'Apple']"
      ]
     },
     "execution_count": 2,
     "metadata": {},
     "output_type": "execute_result"
    }
   ],
   "source": [
    "a = [\"Zebra\",\"Apple\",\"Cat\",\"Ant\",\"zebra\",\"Apple\"]\n",
    "a.remove(\"Apple\")\n",
    "a"
   ]
  },
  {
   "cell_type": "code",
   "execution_count": 5,
   "id": "5209f867",
   "metadata": {},
   "outputs": [
    {
     "name": "stdout",
     "output_type": "stream",
     "text": [
      "Enter value = Apple\n"
     ]
    },
    {
     "data": {
      "text/plain": [
       "['Zebra', 'Cat', 'Ant', 'zebra']"
      ]
     },
     "execution_count": 5,
     "metadata": {},
     "output_type": "execute_result"
    }
   ],
   "source": [
    "a = [\"Zebra\",\"Apple\",\"Cat\",\"Ant\",\"zebra\",\"Apple\"]\n",
    "value = input(\"Enter value = \")\n",
    "l = a.count(value)\n",
    "for i in range(l):\n",
    "    a.remove(value)\n",
    "a"
   ]
  },
  {
   "cell_type": "code",
   "execution_count": 7,
   "id": "bc7e2ee5",
   "metadata": {},
   "outputs": [
    {
     "data": {
      "text/plain": [
       "['Ram', 'Shyam', 'Hari', 'Sita', 'Gita']"
      ]
     },
     "execution_count": 7,
     "metadata": {},
     "output_type": "execute_result"
    }
   ],
   "source": [
    "a = \"Ram-Shyam-Hari-Sita-Gita\"\n",
    "a.split('-')"
   ]
  },
  {
   "cell_type": "code",
   "execution_count": 8,
   "id": "0a981448",
   "metadata": {},
   "outputs": [
    {
     "name": "stdout",
     "output_type": "stream",
     "text": [
      "3\n"
     ]
    }
   ],
   "source": [
    "# list inside list\n",
    "a = [[1,2,3],\n",
    "     [4,5,6],\n",
    "     [7,8,9]]\n",
    "print(len(a))"
   ]
  },
  {
   "cell_type": "code",
   "execution_count": 9,
   "id": "7582500e",
   "metadata": {},
   "outputs": [
    {
     "data": {
      "text/plain": [
       "[['Ram', 78, 'Kathmandu'],\n",
       " ['Shyam', 34, 'Bhaktapur'],\n",
       " ['Hari', 23, 'Lalitpur']]"
      ]
     },
     "execution_count": 9,
     "metadata": {},
     "output_type": "execute_result"
    }
   ],
   "source": [
    "a = [[\"Ram\",78,\"Kathmandu\"],\n",
    "    [\"Shyam\",34,\"Bhaktapur\"],\n",
    "    [\"Hari\",23,\"Lalitpur\"]]\n",
    "a"
   ]
  },
  {
   "cell_type": "code",
   "execution_count": 12,
   "id": "c4b201ae",
   "metadata": {},
   "outputs": [
    {
     "name": "stdout",
     "output_type": "stream",
     "text": [
      "['Hari', 23, 'Lalitpur']\n"
     ]
    }
   ],
   "source": [
    "print(a[2])"
   ]
  },
  {
   "cell_type": "code",
   "execution_count": 17,
   "id": "6c8f7141",
   "metadata": {},
   "outputs": [
    {
     "name": "stdout",
     "output_type": "stream",
     "text": [
      "Kathmandu\n"
     ]
    }
   ],
   "source": [
    "print(a[0][2])"
   ]
  },
  {
   "cell_type": "code",
   "execution_count": 19,
   "id": "249cb493",
   "metadata": {},
   "outputs": [
    {
     "data": {
      "text/plain": [
       "[['Rama', 34, 'Ktm'], ['Shyam', 34, 'Bhaktapur'], ['Hari', 23, 'Lalitpur']]"
      ]
     },
     "execution_count": 19,
     "metadata": {},
     "output_type": "execute_result"
    }
   ],
   "source": [
    "a = [[\"Ram\",78,\"Kathmandu\"],\n",
    "    [\"Shyam\",34,\"Bhaktapur\"],\n",
    "    [\"Hari\",23,\"Lalitpur\"]]\n",
    "a[0] = [\"Rama\",34,\"Ktm\"]\n",
    "a"
   ]
  },
  {
   "cell_type": "code",
   "execution_count": 20,
   "id": "5d0b8f00",
   "metadata": {},
   "outputs": [
    {
     "data": {
      "text/plain": [
       "[['rama', 34, 'Ktm'], ['Shyam', 34, 'Bhaktapur'], ['Hari', 23, 'Lalitpur']]"
      ]
     },
     "execution_count": 20,
     "metadata": {},
     "output_type": "execute_result"
    }
   ],
   "source": [
    "a[0][0] = \"rama\"\n",
    "a"
   ]
  },
  {
   "cell_type": "code",
   "execution_count": 21,
   "id": "9608a50f",
   "metadata": {},
   "outputs": [
    {
     "name": "stdout",
     "output_type": "stream",
     "text": [
      "[['Shyam', 34, 'Bhaktapur'], ['Hari', 23, 'Lalitpur']]\n"
     ]
    }
   ],
   "source": [
    "del a[0]\n",
    "print(a)"
   ]
  },
  {
   "cell_type": "code",
   "execution_count": 23,
   "id": "042275c9",
   "metadata": {},
   "outputs": [
    {
     "name": "stdout",
     "output_type": "stream",
     "text": [
      "Enter n = 2\n",
      "Enter name = Ram\n",
      "Enter age = 89\n",
      "Enter add = Kathmandu\n",
      "Enter name = Krishna\n",
      "Enter age = 89\n",
      "Enter add = Lalitpur\n",
      "[['Ram', 89, 'Kathmandu'], ['Krishna', 89, 'Lalitpur']]\n"
     ]
    }
   ],
   "source": [
    "x = []\n",
    "n = int(input(\"Enter n = \"))\n",
    "for i in range(n):\n",
    "    name = input(\"Enter name = \")\n",
    "    age = int(input(\"Enter age = \"))\n",
    "    add = input(\"Enter add = \")\n",
    "    x.append([name,age,add])\n",
    "    \n",
    "print(x)"
   ]
  },
  {
   "cell_type": "code",
   "execution_count": 31,
   "id": "75270970",
   "metadata": {},
   "outputs": [
    {
     "name": "stdout",
     "output_type": "stream",
     "text": [
      "Enter value = ram\n",
      "['ram', 34, 'Ktm']\n",
      "['ram', 23, 'Lalitpur']\n"
     ]
    }
   ],
   "source": [
    "a = [['Ram', 34, 'Ktm'], ['Shyam', 34, 'Bhaktapur'], ['ram', 23, 'Lalitpur']]\n",
    "value = input(\"Enter value = \")\n",
    "for i in a:\n",
    "#     print(i)\n",
    "    if value in i:\n",
    "        print(i)"
   ]
  },
  {
   "cell_type": "code",
   "execution_count": 34,
   "id": "c5c7761b",
   "metadata": {},
   "outputs": [
    {
     "name": "stdout",
     "output_type": "stream",
     "text": [
      "Enter value = ram\n",
      "['Ram', 34, 'Ktm']\n",
      "['ram', 23, 'Lalitpur']\n"
     ]
    }
   ],
   "source": [
    "a = [['Ram', 34, 'Ktm'], ['Shyam', 34, 'Bhaktapur'], ['ram', 23, 'Lalitpur']]\n",
    "value = input(\"Enter value = \").lower()\n",
    "for i in a:\n",
    "#     print(i)\n",
    "    if value == i[0].lower():\n",
    "        print(i)"
   ]
  },
  {
   "cell_type": "code",
   "execution_count": 33,
   "id": "b0754faf",
   "metadata": {},
   "outputs": [
    {
     "name": "stdout",
     "output_type": "stream",
     "text": [
      "Enter value = Ram\n",
      "Ram\n",
      "Shyam\n",
      "ram\n"
     ]
    }
   ],
   "source": [
    "a = [['Ram', 34, 'Ktm'], ['Shyam', 34, 'Bhaktapur'], ['ram', 23, 'Lalitpur']]\n",
    "value = input(\"Enter value = \").lower()\n",
    "for i in a:\n",
    "     print(i[0])"
   ]
  },
  {
   "cell_type": "code",
   "execution_count": null,
   "id": "a0bc1acb",
   "metadata": {},
   "outputs": [],
   "source": [
    "# # WAP to create a matrix\n",
    "# r = ? \n",
    "# c = ?\n",
    "# x = ? \n",
    "\n",
    "# for i in range(r):\n",
    "#     for j in range(c):\n",
    "#         x = int(input())"
   ]
  },
  {
   "cell_type": "code",
   "execution_count": 36,
   "id": "51476666",
   "metadata": {},
   "outputs": [
    {
     "name": "stdout",
     "output_type": "stream",
     "text": [
      "Momo 200 3 600\n",
      "Coke 300 2 600\n"
     ]
    }
   ],
   "source": [
    "#bill = \"Momo 200 3 600\\nCoke 300 2 600\"\n",
    "# print(bill)"
   ]
  },
  {
   "cell_type": "code",
   "execution_count": null,
   "id": "3449b24a",
   "metadata": {},
   "outputs": [],
   "source": []
  }
 ],
 "metadata": {
  "kernelspec": {
   "display_name": "Python 3 (ipykernel)",
   "language": "python",
   "name": "python3"
  },
  "language_info": {
   "codemirror_mode": {
    "name": "ipython",
    "version": 3
   },
   "file_extension": ".py",
   "mimetype": "text/x-python",
   "name": "python",
   "nbconvert_exporter": "python",
   "pygments_lexer": "ipython3",
   "version": "3.9.12"
  }
 },
 "nbformat": 4,
 "nbformat_minor": 5
}
