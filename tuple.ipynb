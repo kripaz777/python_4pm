{
 "cells": [
  {
   "cell_type": "code",
   "execution_count": 1,
   "id": "9b8d76d8",
   "metadata": {},
   "outputs": [],
   "source": [
    "# tuple\n",
    "# -Indexing\n",
    "# -Ordered\n",
    "# -Multiple data\n",
    "# -Imutable"
   ]
  },
  {
   "cell_type": "code",
   "execution_count": 9,
   "id": "a8450483",
   "metadata": {},
   "outputs": [
    {
     "name": "stdout",
     "output_type": "stream",
     "text": [
      "<class 'tuple'>\n",
      "<class 'tuple'>\n",
      "(1, 2, 3, 4)\n"
     ]
    }
   ],
   "source": [
    "t1 = (1,2,3,4,)\n",
    "t2 = (\"Apple\",\"Ball\",)\n",
    "print(type(t1))\n",
    "print(type(t2))\n",
    "print(t1)"
   ]
  },
  {
   "cell_type": "code",
   "execution_count": 5,
   "id": "a0b6f02f",
   "metadata": {},
   "outputs": [
    {
     "name": "stdout",
     "output_type": "stream",
     "text": [
      "<class 'tuple'>\n"
     ]
    }
   ],
   "source": [
    "t2 = (\"Apple\",)\n",
    "print(type(t2))"
   ]
  },
  {
   "cell_type": "code",
   "execution_count": 8,
   "id": "da9d00da",
   "metadata": {},
   "outputs": [
    {
     "name": "stdout",
     "output_type": "stream",
     "text": [
      "Ball\n"
     ]
    }
   ],
   "source": [
    "t2 = (\"Apple\",\"Ball\",)\n",
    "print(t2[1])"
   ]
  },
  {
   "cell_type": "code",
   "execution_count": null,
   "id": "9b6363f3",
   "metadata": {},
   "outputs": [],
   "source": [
    "# no edit\n",
    "# no delete"
   ]
  },
  {
   "cell_type": "code",
   "execution_count": 10,
   "id": "16e7aaf4",
   "metadata": {},
   "outputs": [
    {
     "name": "stdout",
     "output_type": "stream",
     "text": [
      "(1, 2, 3, 4, 'Apple', 'Ball')\n"
     ]
    }
   ],
   "source": [
    "t1 = (1,2,3,4,)\n",
    "t2 = (\"Apple\",\"Ball\",)\n",
    "t = t1+t2\n",
    "print(t)"
   ]
  },
  {
   "cell_type": "code",
   "execution_count": 11,
   "id": "522838ae",
   "metadata": {},
   "outputs": [
    {
     "name": "stdout",
     "output_type": "stream",
     "text": [
      "(1, 2, 3, 4, 1, 2, 3, 4)\n"
     ]
    }
   ],
   "source": [
    "t1 = (1,2,3,4,)\n",
    "print(t1*2)"
   ]
  },
  {
   "cell_type": "code",
   "execution_count": 14,
   "id": "3e923f97",
   "metadata": {},
   "outputs": [
    {
     "data": {
      "text/plain": [
       "('Apple',)"
      ]
     },
     "execution_count": 14,
     "metadata": {},
     "output_type": "execute_result"
    }
   ],
   "source": [
    "t1 = ()\n",
    "t2 = (\"Apple\",)\n",
    "t = t1+t2\n",
    "t"
   ]
  },
  {
   "cell_type": "code",
   "execution_count": 16,
   "id": "7cf9534b",
   "metadata": {},
   "outputs": [
    {
     "ename": "TypeError",
     "evalue": "'tuple' object does not support item assignment",
     "output_type": "error",
     "traceback": [
      "\u001b[1;31m---------------------------------------------------------------------------\u001b[0m",
      "\u001b[1;31mTypeError\u001b[0m                                 Traceback (most recent call last)",
      "Input \u001b[1;32mIn [16]\u001b[0m, in \u001b[0;36m<cell line: 2>\u001b[1;34m()\u001b[0m\n\u001b[0;32m      1\u001b[0m t2 \u001b[38;5;241m=\u001b[39m (\u001b[38;5;124m\"\u001b[39m\u001b[38;5;124mApple\u001b[39m\u001b[38;5;124m\"\u001b[39m,\u001b[38;5;124m\"\u001b[39m\u001b[38;5;124mBall\u001b[39m\u001b[38;5;124m\"\u001b[39m,)\n\u001b[1;32m----> 2\u001b[0m t2[\u001b[38;5;241m0\u001b[39m] \u001b[38;5;241m=\u001b[39m \u001b[38;5;124m'\u001b[39m\u001b[38;5;124mAnt\u001b[39m\u001b[38;5;124m'\u001b[39m\n\u001b[0;32m      3\u001b[0m t2\n",
      "\u001b[1;31mTypeError\u001b[0m: 'tuple' object does not support item assignment"
     ]
    }
   ],
   "source": [
    "t2 = (\"Apple\",\"Ball\",)\n",
    "t2[0] = 'Ant'\n",
    "t2"
   ]
  },
  {
   "cell_type": "code",
   "execution_count": 17,
   "id": "f8db1a74",
   "metadata": {},
   "outputs": [],
   "source": [
    "# No del pop() remove()\n",
    "# No update or edit\n",
    "# No append() insert() extend()"
   ]
  },
  {
   "cell_type": "code",
   "execution_count": 18,
   "id": "8be6f061",
   "metadata": {},
   "outputs": [],
   "source": [
    "# no sort()\n",
    "# no reverse()"
   ]
  },
  {
   "cell_type": "code",
   "execution_count": 19,
   "id": "12840ad2",
   "metadata": {},
   "outputs": [],
   "source": [
    "gender = (\"Male\",\"Female\",\"Other\")"
   ]
  },
  {
   "cell_type": "code",
   "execution_count": 20,
   "id": "38548de9",
   "metadata": {},
   "outputs": [
    {
     "data": {
      "text/plain": [
       "['Apple', 'Ball']"
      ]
     },
     "execution_count": 20,
     "metadata": {},
     "output_type": "execute_result"
    }
   ],
   "source": [
    "t2 = (\"Apple\",\"Ball\",)\n",
    "list(t2)"
   ]
  },
  {
   "cell_type": "code",
   "execution_count": 25,
   "id": "11300759",
   "metadata": {},
   "outputs": [
    {
     "data": {
      "text/plain": [
       "('Ball',)"
      ]
     },
     "execution_count": 25,
     "metadata": {},
     "output_type": "execute_result"
    }
   ],
   "source": [
    "t2 = (\"Apple\",\"Ball\",)\n",
    "t = list(t2)\n",
    "del t[0]\n",
    "t = tuple(t)\n",
    "t"
   ]
  },
  {
   "cell_type": "code",
   "execution_count": null,
   "id": "c168c98c",
   "metadata": {},
   "outputs": [],
   "source": [
    "# mix() min() sum() index()"
   ]
  }
 ],
 "metadata": {
  "kernelspec": {
   "display_name": "Python 3 (ipykernel)",
   "language": "python",
   "name": "python3"
  },
  "language_info": {
   "codemirror_mode": {
    "name": "ipython",
    "version": 3
   },
   "file_extension": ".py",
   "mimetype": "text/x-python",
   "name": "python",
   "nbconvert_exporter": "python",
   "pygments_lexer": "ipython3",
   "version": "3.9.12"
  }
 },
 "nbformat": 4,
 "nbformat_minor": 5
}
