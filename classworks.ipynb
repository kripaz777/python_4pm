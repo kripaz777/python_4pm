{
 "cells": [
  {
   "cell_type": "code",
   "execution_count": null,
   "id": "ca4bf182",
   "metadata": {},
   "outputs": [],
   "source": [
    "x = int(input(\"Enter 1 if you are indivisual and 2 if you are married = \"))\n",
    "s = int(input(\"Enter tour total salary = \"))\n",
    "if x == 1 or x ==2:\n",
    "    if x == 1:\n",
    "        if s <= 400000:\n",
    "            tds = 0.01\n",
    "        elif s <= 500000:\n",
    "            tds = 0.1\n",
    "        elif s <= 700000:\n",
    "            tds = 0.2\n",
    "        elif s <= 1300000:\n",
    "            tds = 0.3\n",
    "        elif s > 1300000:\n",
    "            tds = 0.36\n",
    "\n",
    "    elif x == 2:\n",
    "        if s <= 450000:\n",
    "            tds = 0.01\n",
    "        elif s <= 550000:\n",
    "            tds = 0.1\n",
    "        elif s <= 750000:\n",
    "            tds = 0.2\n",
    "        elif s <= 1300000:\n",
    "            tds = 0.3\n",
    "        elif s > 1300000:\n",
    "            tds = 0.36\n",
    "            \n",
    "    print(\"Your net salary = \",(1-tds) * s)\n",
    "\n",
    "else:\n",
    "    print(\"Please Enter 1 or 2\")\n",
    "\n"
   ]
  },
  {
   "cell_type": "code",
   "execution_count": 1,
   "id": "afc17275",
   "metadata": {},
   "outputs": [],
   "source": [
    "# # WAP to create a matrix\n",
    "# r = ? \n",
    "# c = ?\n",
    "# x = ? \n",
    "\n",
    "# for i in range(r):\n",
    "#     for j in range(c):\n",
    "#         x = int(input())"
   ]
  },
  {
   "cell_type": "code",
   "execution_count": null,
   "id": "0019e195",
   "metadata": {},
   "outputs": [],
   "source": [
    "# [[1,2,3],\n",
    "# [4,5,6],\n",
    "# [7,8,9]]"
   ]
  },
  {
   "cell_type": "code",
   "execution_count": null,
   "id": "5fd22362",
   "metadata": {},
   "outputs": [],
   "source": [
    "# [[1,2],[2,3]]"
   ]
  },
  {
   "cell_type": "code",
   "execution_count": 7,
   "id": "5902bcbf",
   "metadata": {},
   "outputs": [
    {
     "name": "stdout",
     "output_type": "stream",
     "text": [
      "Enter r = 2\n",
      "Enter c = 2\n",
      "Enter x = for i = 0 j = 01\n",
      "Enter x = for i = 0 j = 12\n",
      "Enter x = for i = 1 j = 03\n",
      "Enter x = for i = 1 j = 14\n",
      "[[1, 2], [3, 4]]\n"
     ]
    }
   ],
   "source": [
    "r = int(input(\"Enter r = \"))\n",
    "c = int(input(\"Enter c = \"))\n",
    "y = []\n",
    "for i in range(r):\n",
    "    z = []\n",
    "    for j in range(c):\n",
    "        x = int(input(f\"Enter x = for i = {i} j = {j}\"))\n",
    "        z.append(x)\n",
    "    y.append(z)\n",
    "print(y)"
   ]
  },
  {
   "cell_type": "code",
   "execution_count": 16,
   "id": "1acf5951",
   "metadata": {},
   "outputs": [
    {
     "name": "stdout",
     "output_type": "stream",
     "text": [
      "Momo 200 3 600\n",
      "Coke 300 2 600\n"
     ]
    }
   ],
   "source": [
    "bill = \"Momo 200 3 600\\nCoke 300 2 600\"\n",
    "print(bill)"
   ]
  },
  {
   "cell_type": "code",
   "execution_count": 19,
   "id": "6cdd31ea",
   "metadata": {},
   "outputs": [
    {
     "name": "stdout",
     "output_type": "stream",
     "text": [
      "['Momo 200 3 600', 'Coke 300 2 600']\n"
     ]
    },
    {
     "data": {
      "text/plain": [
       "[['Momo', '200', '3', '600'], ['Coke', '300', '2', '600']]"
      ]
     },
     "execution_count": 19,
     "metadata": {},
     "output_type": "execute_result"
    }
   ],
   "source": [
    "final = []\n",
    "list_bill = bill.split('\\n')\n",
    "print(list_bill)\n",
    "for i in list_bill:\n",
    "    final.append(i.split())\n",
    "    \n",
    "final"
   ]
  },
  {
   "cell_type": "code",
   "execution_count": 1,
   "id": "0453f034",
   "metadata": {},
   "outputs": [
    {
     "data": {
      "text/plain": [
       "'C:\\\\Users\\\\Aayush\\\\pythonClass4pm'"
      ]
     },
     "execution_count": 1,
     "metadata": {},
     "output_type": "execute_result"
    }
   ],
   "source": [
    "pwd"
   ]
  },
  {
   "cell_type": "code",
   "execution_count": null,
   "id": "1c0150b2",
   "metadata": {},
   "outputs": [],
   "source": []
  }
 ],
 "metadata": {
  "kernelspec": {
   "display_name": "Python 3 (ipykernel)",
   "language": "python",
   "name": "python3"
  },
  "language_info": {
   "codemirror_mode": {
    "name": "ipython",
    "version": 3
   },
   "file_extension": ".py",
   "mimetype": "text/x-python",
   "name": "python",
   "nbconvert_exporter": "python",
   "pygments_lexer": "ipython3",
   "version": "3.9.12"
  }
 },
 "nbformat": 4,
 "nbformat_minor": 5
}
