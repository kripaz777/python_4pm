{
 "cells": [
  {
   "cell_type": "code",
   "execution_count": 1,
   "id": "fe1e075f",
   "metadata": {},
   "outputs": [],
   "source": [
    "# # pre defined function\n",
    "# print() type() int() float() str() list() tuple() dict()"
   ]
  },
  {
   "cell_type": "code",
   "execution_count": null,
   "id": "aca4fc44",
   "metadata": {},
   "outputs": [],
   "source": [
    "a = 10"
   ]
  },
  {
   "cell_type": "code",
   "execution_count": null,
   "id": "ac786189",
   "metadata": {},
   "outputs": [],
   "source": [
    "def <function_name>():          #define function\n",
    "    <operation>\n",
    "    \n",
    "<function_name>()               #call function"
   ]
  },
  {
   "cell_type": "code",
   "execution_count": 5,
   "id": "e5ecf0b3",
   "metadata": {},
   "outputs": [
    {
     "name": "stdout",
     "output_type": "stream",
     "text": [
      "Hello World\n"
     ]
    }
   ],
   "source": [
    "def hello():\n",
    "    print(\"Hello World\")\n",
    "    \n",
    "hello()"
   ]
  },
  {
   "cell_type": "code",
   "execution_count": 7,
   "id": "c2701a98",
   "metadata": {},
   "outputs": [],
   "source": [
    "def cal():\n",
    "    l = int(input(\"Enter l = \"))      #local variable\n",
    "    b = int(input(\"Enter b = \"))\n",
    "    h = int(input(\"Enter h = \"))\n",
    "    a = l*b\n",
    "    v = a*h\n",
    "    print(a)\n",
    "    print(v)\n",
    "    \n",
    "cal()"
   ]
  },
  {
   "cell_type": "code",
   "execution_count": 8,
   "id": "4679b4b8",
   "metadata": {},
   "outputs": [
    {
     "name": "stdout",
     "output_type": "stream",
     "text": [
      "Enter l = 100\n",
      "Enter b = 2\n",
      "Enter h = 3\n",
      "200\n",
      "600\n"
     ]
    }
   ],
   "source": [
    "def cal():\n",
    "    a = l*b\n",
    "    v = a*h\n",
    "    print(a)\n",
    "    print(v)\n",
    "    \n",
    "l = int(input(\"Enter l = \"))      #global variable\n",
    "b = int(input(\"Enter b = \"))\n",
    "h = int(input(\"Enter h = \"))\n",
    "    \n",
    "cal()"
   ]
  },
  {
   "cell_type": "code",
   "execution_count": null,
   "id": "1c19039a",
   "metadata": {},
   "outputs": [],
   "source": [
    "def cal():\n",
    "    global a,v\n",
    "    l = int(input(\"Enter l = \"))      #local variable\n",
    "    b = int(input(\"Enter b = \"))\n",
    "    h = int(input(\"Enter h = \"))\n",
    "    a = l*b\n",
    "    v = a*h\n",
    "    \n",
    "    \n",
    "cal()\n",
    "print(\"The value of a = \",a)\n",
    "print(\"The value of b = \",v)"
   ]
  },
  {
   "cell_type": "code",
   "execution_count": 9,
   "id": "94bb8320",
   "metadata": {},
   "outputs": [],
   "source": [
    "# function without argument and no return type\n",
    "# function with argument and no return type\n",
    "# function without argument and  return type\n",
    "# function argument and return type\n"
   ]
  },
  {
   "cell_type": "code",
   "execution_count": 10,
   "id": "cfab3b25",
   "metadata": {},
   "outputs": [
    {
     "name": "stdout",
     "output_type": "stream",
     "text": [
      "Hello World\n"
     ]
    }
   ],
   "source": [
    "def hello(x):                 #parameter\n",
    "    print(x)\n",
    "\n",
    "hello(\"Hello World\")           #argument"
   ]
  },
  {
   "cell_type": "code",
   "execution_count": 11,
   "id": "b9c3a4e3",
   "metadata": {},
   "outputs": [
    {
     "name": "stdout",
     "output_type": "stream",
     "text": [
      "Enter l = 10\n",
      "Enter b = 2\n",
      "Enter h = 3\n",
      "20\n",
      "60\n"
     ]
    }
   ],
   "source": [
    "def cal(x,y,z):\n",
    "    a = x*y\n",
    "    v = a*z\n",
    "    print(a)\n",
    "    print(v)\n",
    "    \n",
    "l = int(input(\"Enter l = \"))\n",
    "b = int(input(\"Enter b = \"))\n",
    "h = int(input(\"Enter h = \"))\n",
    "    \n",
    "cal(l,b,h)"
   ]
  },
  {
   "cell_type": "code",
   "execution_count": 13,
   "id": "97c7ea0f",
   "metadata": {},
   "outputs": [
    {
     "name": "stdout",
     "output_type": "stream",
     "text": [
      "Hello World\n"
     ]
    }
   ],
   "source": [
    "def hello():                 #parameter\n",
    "    x = \"Hello World\"\n",
    "    return x\n",
    "\n",
    "print(hello())           #argument"
   ]
  },
  {
   "cell_type": "code",
   "execution_count": 15,
   "id": "9613adae",
   "metadata": {},
   "outputs": [
    {
     "name": "stdout",
     "output_type": "stream",
     "text": [
      "Hello WorldHello World\n"
     ]
    }
   ],
   "source": [
    "def hello():                 #parameter\n",
    "    x = \"Hello World\"\n",
    "    return x\n",
    "\n",
    "y = hello()*2           #argument\n",
    "print(y)"
   ]
  },
  {
   "cell_type": "code",
   "execution_count": 16,
   "id": "646a74c5",
   "metadata": {},
   "outputs": [
    {
     "name": "stdout",
     "output_type": "stream",
     "text": [
      "Enter l = 100\n",
      "Enter b = 2\n",
      "Enter h = 3\n"
     ]
    },
    {
     "data": {
      "text/plain": [
       "(200, 600)"
      ]
     },
     "execution_count": 16,
     "metadata": {},
     "output_type": "execute_result"
    }
   ],
   "source": [
    "def cal():\n",
    "    l = int(input(\"Enter l = \"))      #local variable\n",
    "    b = int(input(\"Enter b = \"))\n",
    "    h = int(input(\"Enter h = \"))\n",
    "    a = l*b\n",
    "    v = a*h\n",
    "    return a,v\n",
    "    \n",
    "    \n",
    "area,volume = cal()\n",
    "print(\"The value of a = \",area)\n",
    "print(\"The value of b = \",volume)"
   ]
  },
  {
   "cell_type": "code",
   "execution_count": 17,
   "id": "124f09e3",
   "metadata": {},
   "outputs": [
    {
     "name": "stdout",
     "output_type": "stream",
     "text": [
      "Enter h = 2\n",
      "Enter l = 100\n",
      "Enter b = 10\n",
      "The value of a =  1000\n",
      "The value of b =  2000\n"
     ]
    }
   ],
   "source": [
    "def cal():\n",
    "    l = int(input(\"Enter l = \"))      #local variable\n",
    "    b = int(input(\"Enter b = \"))\n",
    "    a = l*b\n",
    "    return a\n",
    "    \n",
    "h = int(input(\"Enter h = \"))\n",
    "area = cal()\n",
    "volume = area*h\n",
    "print(\"The value of a = \",area)\n",
    "print(\"The value of b = \",volume)"
   ]
  },
  {
   "cell_type": "code",
   "execution_count": null,
   "id": "64c46060",
   "metadata": {},
   "outputs": [],
   "source": [
    "def cal(l,b):\n",
    "    a = l*b\n",
    "    return a\n",
    "\n",
    "\n",
    "l = int(input(\"Enter l = \"))      #local variable\n",
    "b = int(input(\"Enter b = \"))\n",
    "h = int(input(\"Enter h = \"))\n",
    "area = cal(l,b)\n",
    "volume = area*h\n",
    "print(\"The value of a = \",area)\n",
    "print(\"The value of b = \",volume)"
   ]
  },
  {
   "cell_type": "code",
   "execution_count": null,
   "id": "5f895bc1",
   "metadata": {},
   "outputs": [],
   "source": [
    "def cal():\n",
    "    l = int(input(\"Enter l = \"))      #local variable\n",
    "    b = int(input(\"Enter b = \"))\n",
    "    h = int(input(\"Enter h = \"))\n",
    "    a = l*b\n",
    "    v = a*h\n",
    "    return a,v\n",
    "    \n",
    "for i in range(2):\n",
    "    area,volume = cal()\n",
    "    print(\"The value of a = \",area)\n",
    "    print(\"The value of b = \",volume)"
   ]
  },
  {
   "cell_type": "code",
   "execution_count": null,
   "id": "07f9101e",
   "metadata": {},
   "outputs": [],
   "source": [
    "# Recursive function\n",
    "def hello():\n",
    "    print(\"Hello World\")\n",
    "    \n",
    "    hello()\n",
    "    \n",
    "hello()"
   ]
  },
  {
   "cell_type": "code",
   "execution_count": 1,
   "id": "955a1852",
   "metadata": {},
   "outputs": [
    {
     "name": "stdout",
     "output_type": "stream",
     "text": [
      "Hello World\n",
      "Enter y for more print  y\n",
      "Hello World\n",
      "Enter y for more print  y\n",
      "Hello World\n",
      "Enter y for more print  y\n",
      "Hello World\n",
      "Enter y for more print  adasda\n"
     ]
    }
   ],
   "source": [
    "# Recursive function\n",
    "def hello():\n",
    "    print(\"Hello World\")\n",
    "    x = input(\"Enter y for more print  \")\n",
    "    if x == 'y':\n",
    "        hello()\n",
    "    \n",
    "hello()"
   ]
  },
  {
   "cell_type": "code",
   "execution_count": 3,
   "id": "4933b5b5",
   "metadata": {},
   "outputs": [
    {
     "name": "stdout",
     "output_type": "stream",
     "text": [
      "3.141592653589793\n",
      "Enter radius = 7\n",
      "153.93804002589985\n"
     ]
    }
   ],
   "source": [
    "# math function\n",
    "import math as m\n",
    "print(m.pi)\n",
    "r = float(input(\"Enter radius = \"))\n",
    "a = m.pi*m.pow(r,2)\n",
    "print(a)"
   ]
  },
  {
   "cell_type": "code",
   "execution_count": 4,
   "id": "9bf90e3b",
   "metadata": {},
   "outputs": [
    {
     "data": {
      "text/plain": [
       "120"
      ]
     },
     "execution_count": 4,
     "metadata": {},
     "output_type": "execute_result"
    }
   ],
   "source": [
    "m.factorial(5)"
   ]
  },
  {
   "cell_type": "code",
   "execution_count": 7,
   "id": "0c75db29",
   "metadata": {},
   "outputs": [
    {
     "name": "stdout",
     "output_type": "stream",
     "text": [
      "1.0\n",
      "6.123233995736766e-17\n"
     ]
    }
   ],
   "source": [
    "print(m.sin(m.pi/2))\n",
    "print(m.cos(m.pi/2))"
   ]
  },
  {
   "cell_type": "code",
   "execution_count": null,
   "id": "e0953896",
   "metadata": {},
   "outputs": [],
   "source": []
  }
 ],
 "metadata": {
  "kernelspec": {
   "display_name": "Python 3 (ipykernel)",
   "language": "python",
   "name": "python3"
  },
  "language_info": {
   "codemirror_mode": {
    "name": "ipython",
    "version": 3
   },
   "file_extension": ".py",
   "mimetype": "text/x-python",
   "name": "python",
   "nbconvert_exporter": "python",
   "pygments_lexer": "ipython3",
   "version": "3.9.12"
  }
 },
 "nbformat": 4,
 "nbformat_minor": 5
}
