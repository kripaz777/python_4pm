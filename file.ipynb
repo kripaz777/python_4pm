{
 "cells": [
  {
   "cell_type": "code",
   "execution_count": 1,
   "id": "c4cc4d9b",
   "metadata": {},
   "outputs": [],
   "source": [
    "# # file = open(<file_name>,mode)\n",
    "# # file.close()\n",
    "\n",
    "# #mode\n",
    "# read -> r\n",
    "# create -> x\n",
    "# append -> a\n",
    "# write -> w\n",
    "\n",
    "# with open(<file_name>,mode) as file:\n",
    "#     <operations>"
   ]
  },
  {
   "cell_type": "code",
   "execution_count": 2,
   "id": "3023fd90",
   "metadata": {},
   "outputs": [],
   "source": [
    "file = open('data.txt','x')\n",
    "file.close()"
   ]
  },
  {
   "cell_type": "code",
   "execution_count": 5,
   "id": "0b6af2e8",
   "metadata": {},
   "outputs": [
    {
     "name": "stdout",
     "output_type": "stream",
     "text": [
      "1.Hello World\n",
      "2.Hello World\n",
      "3.Hello World\n",
      "4.Hello World\n",
      "5.Hello World\n",
      "6.Hello World\n",
      "<class 'str'>\n"
     ]
    }
   ],
   "source": [
    "file = open('data.txt','r')\n",
    "my_data = file.read()\n",
    "print(my_data)\n",
    "print(type(my_data))\n",
    "file.close()"
   ]
  },
  {
   "cell_type": "code",
   "execution_count": 9,
   "id": "db2d154a",
   "metadata": {},
   "outputs": [
    {
     "data": {
      "text/plain": [
       "['1.Hello World',\n",
       " '2.Hello World',\n",
       " '3.Hello World',\n",
       " '4.Hello World',\n",
       " '5.Hello World',\n",
       " '6.Hello World']"
      ]
     },
     "execution_count": 9,
     "metadata": {},
     "output_type": "execute_result"
    }
   ],
   "source": [
    "my_data.split('\\n')"
   ]
  },
  {
   "cell_type": "code",
   "execution_count": 12,
   "id": "2f559805",
   "metadata": {},
   "outputs": [
    {
     "name": "stdout",
     "output_type": "stream",
     "text": [
      "Enter line no = 1\n"
     ]
    },
    {
     "data": {
      "text/plain": [
       "'1.Hello World'"
      ]
     },
     "execution_count": 12,
     "metadata": {},
     "output_type": "execute_result"
    }
   ],
   "source": [
    "line_no = int(input(\"Enter line no = \"))\n",
    "my_data.split('\\n')[line_no-1]"
   ]
  },
  {
   "cell_type": "code",
   "execution_count": 13,
   "id": "24972afd",
   "metadata": {},
   "outputs": [],
   "source": [
    "file = open('data1.txt','w')\n",
    "file.write('Hello World')\n",
    "file.close()"
   ]
  },
  {
   "cell_type": "code",
   "execution_count": 14,
   "id": "10ca5bb7",
   "metadata": {},
   "outputs": [
    {
     "name": "stdout",
     "output_type": "stream",
     "text": [
      "Enter n = 2\n",
      "Enter product name = Apple\n",
      "Enter price = 100\n",
      "Enter quantity = 2\n",
      "Enter product name = Banana\n",
      "Enter price = 200\n",
      "Enter quantity = 3\n",
      "Apple 100 2 200\n",
      "Banana 200 3 600\n",
      "\n",
      "All total price =  800\n"
     ]
    }
   ],
   "source": [
    "bill = \"\" #bill = str()\n",
    "all_total = 0\n",
    "n = int(input(\"Enter n = \"))\n",
    "for i in range(n):\n",
    "    product = input(\"Enter product name = \")\n",
    "    price = int(input(\"Enter price = \"))\n",
    "    quantity = int(input(\"Enter quantity = \"))\n",
    "    total = price*quantity\n",
    "    all_total = all_total + total\n",
    "    row = f\"{product} {price} {quantity} {total}\\n\"\n",
    "    bill = bill + row\n",
    "    \n",
    "print(bill)\n",
    "\n",
    "file = open('bill.txt','w')\n",
    "file.write(bill)\n",
    "file.close()\n",
    "    \n",
    "print(\"All total price = \",all_total)"
   ]
  },
  {
   "cell_type": "code",
   "execution_count": 15,
   "id": "62c78efb",
   "metadata": {},
   "outputs": [
    {
     "name": "stdout",
     "output_type": "stream",
     "text": [
      "Enter n = 1\n",
      "Enter product name = Wai Wai\n",
      "Enter price = 25\n",
      "Enter quantity = 5\n",
      "Wai Wai 25 5 125\n",
      "\n",
      "All total price =  125\n"
     ]
    }
   ],
   "source": [
    "bill = \"\" #bill = str()\n",
    "all_total = 0\n",
    "n = int(input(\"Enter n = \"))\n",
    "for i in range(n):\n",
    "    product = input(\"Enter product name = \")\n",
    "    price = int(input(\"Enter price = \"))\n",
    "    quantity = int(input(\"Enter quantity = \"))\n",
    "    total = price*quantity\n",
    "    all_total = all_total + total\n",
    "    row = f\"{product} {price} {quantity} {total}\\n\"\n",
    "    bill = bill + row\n",
    "    \n",
    "print(bill)\n",
    "\n",
    "file = open('bill.txt','a')\n",
    "file.write(bill)\n",
    "file.close()\n",
    "    \n",
    "print(\"All total price = \",all_total)"
   ]
  },
  {
   "cell_type": "code",
   "execution_count": 18,
   "id": "a83a2776",
   "metadata": {},
   "outputs": [
    {
     "name": "stdout",
     "output_type": "stream",
     "text": [
      "Enter n = 2\n",
      "Enter product name = Apple\n",
      "Enter price = 200\n",
      "Enter quantity = 3\n",
      "Enter product name = Banana\n",
      "Enter price = 100\n",
      "Enter quantity = 4\n",
      "Apple,200,3,600\n",
      "Banana,100,4,400\n",
      "\n",
      "All total price =  1000\n"
     ]
    }
   ],
   "source": [
    "bill = \"\" #bill = str()\n",
    "all_total = 0\n",
    "n = int(input(\"Enter n = \"))\n",
    "for i in range(n):\n",
    "    product = input(\"Enter product name = \")\n",
    "    price = int(input(\"Enter price = \"))\n",
    "    quantity = int(input(\"Enter quantity = \"))\n",
    "    total = price*quantity\n",
    "    all_total = all_total + total\n",
    "    row = f\"{product},{price},{quantity},{total}\\n\"\n",
    "    bill = bill + row\n",
    "    \n",
    "print(bill)\n",
    "\n",
    "file = open('bill.csv','w')\n",
    "file.write('Name,Price,Quantity,Total\\n')\n",
    "file.write(bill)\n",
    "file.close()\n",
    "    \n",
    "print(\"All total price = \",all_total)"
   ]
  },
  {
   "cell_type": "code",
   "execution_count": 16,
   "id": "94db1d1f",
   "metadata": {},
   "outputs": [
    {
     "data": {
      "text/plain": [
       "'C:\\\\Users\\\\Aayush\\\\pythonClass4pm'"
      ]
     },
     "execution_count": 16,
     "metadata": {},
     "output_type": "execute_result"
    }
   ],
   "source": [
    "pwd"
   ]
  },
  {
   "cell_type": "code",
   "execution_count": null,
   "id": "075767d4",
   "metadata": {},
   "outputs": [],
   "source": []
  }
 ],
 "metadata": {
  "kernelspec": {
   "display_name": "Python 3 (ipykernel)",
   "language": "python",
   "name": "python3"
  },
  "language_info": {
   "codemirror_mode": {
    "name": "ipython",
    "version": 3
   },
   "file_extension": ".py",
   "mimetype": "text/x-python",
   "name": "python",
   "nbconvert_exporter": "python",
   "pygments_lexer": "ipython3",
   "version": "3.9.12"
  }
 },
 "nbformat": 4,
 "nbformat_minor": 5
}
